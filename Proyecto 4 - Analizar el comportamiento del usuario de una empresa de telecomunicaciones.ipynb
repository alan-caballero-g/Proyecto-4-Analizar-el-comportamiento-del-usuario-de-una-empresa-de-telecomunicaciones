{
 "cells": [
  {
   "cell_type": "markdown",
   "metadata": {
    "id": "3rYiDeEH0q0f"
   },
   "source": [
    "# ¿Cuál es la mejor tarifa?\n",
    "\n",
    "Trabajas como analista para el operador de telecomunicaciones Megaline. La empresa ofrece a sus clientes dos tarifas de prepago, Surf y Ultimate. El departamento comercial quiere saber cuál de las tarifas genera más ingresos para poder ajustar el presupuesto de publicidad.\n",
    "\n",
    "Vas a realizar un análisis preliminar de las tarifas basado en una selección de clientes relativamente pequeña. Tendrás los datos de 500 clientes de Megaline: quiénes son los clientes, de dónde son, qué tarifa usan, así como la cantidad de llamadas que hicieron y los mensajes de texto que enviaron en 2018. Tu trabajo es analizar el comportamiento de los clientes y determinar qué tarifa de prepago genera más ingresos."
   ]
  },
  {
   "cell_type": "markdown",
   "metadata": {
    "id": "VNddPNRQ0q0w"
   },
   "source": [
    "En el presente proyecto realizaremos:\n",
    "-Preprocesamiento de datos, incluyendo su limpieza\n",
    "-Tratamiento de datos, creando dataframes con merges para analizar los datos que nos guíen a encontrar la respuesta sobre ¿Qué tarifa de prepago genera más ingresos?\n",
    "-Analizaremos los datos con pruebas estadísticas"
   ]
  },
  {
   "cell_type": "markdown",
   "metadata": {
    "id": "MQi4IPy70q0y"
   },
   "source": [
    "## Inicialización"
   ]
  },
  {
   "cell_type": "code",
   "execution_count": 1,
   "metadata": {
    "id": "MtYIuBxu0q0z"
   },
   "outputs": [],
   "source": [
    "# Cargar todas las librerías\n",
    "from scipy import stats as st\n",
    "import pandas as pd\n",
    "import numpy as np\n",
    "import matplotlib.pyplot as plt\n",
    "import seaborn as sns\n",
    "import math as mt\n"
   ]
  },
  {
   "cell_type": "markdown",
   "metadata": {
    "id": "4ysWWC5i0q00"
   },
   "source": [
    "## Cargar datos"
   ]
  },
  {
   "cell_type": "code",
   "execution_count": 2,
   "metadata": {
    "id": "CCqPW7rS0q01"
   },
   "outputs": [],
   "source": [
    "# Carga los archivos de datos en diferentes DataFrames\n",
    "\n",
    "df_user=pd.read_csv('/datasets/megaline_users.csv')\n",
    "df_calls=pd.read_csv('/datasets/megaline_calls.csv')\n",
    "df_internet=pd.read_csv('/datasets/megaline_internet.csv')\n",
    "df_messages=pd.read_csv('/datasets/megaline_messages.csv')\n",
    "df_plans=pd.read_csv(\"/datasets/megaline_plans.csv\")\n"
   ]
  },
  {
   "cell_type": "markdown",
   "metadata": {},
   "source": [
    "En la siguiente sección, presentaremos la información de cada dataset y verificaremos si contienen filas duplicadas."
   ]
  },
  {
   "cell_type": "markdown",
   "metadata": {
    "id": "69qqoJ3r0q01"
   },
   "source": [
    "## Preparar los datos"
   ]
  },
  {
   "cell_type": "code",
   "execution_count": 3,
   "metadata": {},
   "outputs": [
    {
     "name": "stdout",
     "output_type": "stream",
     "text": [
      "   user_id first_name  last_name  age                                   city  \\\n",
      "0     1000   Anamaria      Bauer   45  Atlanta-Sandy Springs-Roswell, GA MSA   \n",
      "1     1001     Mickey  Wilkerson   28        Seattle-Tacoma-Bellevue, WA MSA   \n",
      "2     1002     Carlee    Hoffman   36   Las Vegas-Henderson-Paradise, NV MSA   \n",
      "3     1003   Reynaldo    Jenkins   52                          Tulsa, OK MSA   \n",
      "4     1004    Leonila   Thompson   40        Seattle-Tacoma-Bellevue, WA MSA   \n",
      "\n",
      "     reg_date      plan churn_date  \n",
      "0  2018-12-24  ultimate        NaN  \n",
      "1  2018-08-13      surf        NaN  \n",
      "2  2018-10-21      surf        NaN  \n",
      "3  2018-01-28      surf        NaN  \n",
      "4  2018-05-23      surf        NaN  \n",
      "<class 'pandas.core.frame.DataFrame'>\n",
      "RangeIndex: 500 entries, 0 to 499\n",
      "Data columns (total 8 columns):\n",
      " #   Column      Non-Null Count  Dtype \n",
      "---  ------      --------------  ----- \n",
      " 0   user_id     500 non-null    int64 \n",
      " 1   first_name  500 non-null    object\n",
      " 2   last_name   500 non-null    object\n",
      " 3   age         500 non-null    int64 \n",
      " 4   city        500 non-null    object\n",
      " 5   reg_date    500 non-null    object\n",
      " 6   plan        500 non-null    object\n",
      " 7   churn_date  34 non-null     object\n",
      "dtypes: int64(2), object(6)\n",
      "memory usage: 31.4+ KB\n",
      "Este dataset contiene 0 filas duplicadas.\n"
     ]
    }
   ],
   "source": [
    "print(df_user.head())\n",
    "\n",
    "df_user.info()\n",
    "print(\"Este dataset contiene\", df_user.duplicated().sum(),\"filas duplicadas.\")\n"
   ]
  },
  {
   "cell_type": "code",
   "execution_count": 4,
   "metadata": {},
   "outputs": [
    {
     "name": "stdout",
     "output_type": "stream",
     "text": [
      "              id  user_id   call_date  duration\n",
      "0        1000_93     1000  2018-12-27      8.52\n",
      "1       1000_145     1000  2018-12-27     13.66\n",
      "2       1000_247     1000  2018-12-27     14.48\n",
      "3       1000_309     1000  2018-12-28      5.76\n",
      "4       1000_380     1000  2018-12-30      4.22\n",
      "...          ...      ...         ...       ...\n",
      "137730  1499_199     1499  2018-11-21      8.72\n",
      "137731  1499_200     1499  2018-10-20     10.89\n",
      "137732  1499_201     1499  2018-09-21      8.12\n",
      "137733  1499_202     1499  2018-10-10      0.37\n",
      "137734  1499_203     1499  2018-12-29     13.86\n",
      "\n",
      "[137735 rows x 4 columns]\n",
      "<class 'pandas.core.frame.DataFrame'>\n",
      "RangeIndex: 137735 entries, 0 to 137734\n",
      "Data columns (total 4 columns):\n",
      " #   Column     Non-Null Count   Dtype  \n",
      "---  ------     --------------   -----  \n",
      " 0   id         137735 non-null  object \n",
      " 1   user_id    137735 non-null  int64  \n",
      " 2   call_date  137735 non-null  object \n",
      " 3   duration   137735 non-null  float64\n",
      "dtypes: float64(1), int64(1), object(2)\n",
      "memory usage: 4.2+ MB\n",
      "Este dataset contiene 0 filas duplicadas.\n"
     ]
    }
   ],
   "source": [
    "print(df_calls)\n",
    "\n",
    "df_calls.info()\n",
    "print(\"Este dataset contiene\", df_calls.duplicated().sum(),\"filas duplicadas.\")"
   ]
  },
  {
   "cell_type": "code",
   "execution_count": 5,
   "metadata": {},
   "outputs": [
    {
     "name": "stdout",
     "output_type": "stream",
     "text": [
      "              id  user_id session_date  mb_used\n",
      "0        1000_13     1000   2018-12-29    89.86\n",
      "1       1000_204     1000   2018-12-31     0.00\n",
      "2       1000_379     1000   2018-12-28   660.40\n",
      "3       1000_413     1000   2018-12-26   270.99\n",
      "4       1000_442     1000   2018-12-27   880.22\n",
      "...          ...      ...          ...      ...\n",
      "104820  1499_215     1499   2018-10-20   218.06\n",
      "104821  1499_216     1499   2018-12-30   304.72\n",
      "104822  1499_217     1499   2018-09-22   292.75\n",
      "104823  1499_218     1499   2018-12-07     0.00\n",
      "104824  1499_219     1499   2018-12-24   758.31\n",
      "\n",
      "[104825 rows x 4 columns]\n",
      "<class 'pandas.core.frame.DataFrame'>\n",
      "RangeIndex: 104825 entries, 0 to 104824\n",
      "Data columns (total 4 columns):\n",
      " #   Column        Non-Null Count   Dtype  \n",
      "---  ------        --------------   -----  \n",
      " 0   id            104825 non-null  object \n",
      " 1   user_id       104825 non-null  int64  \n",
      " 2   session_date  104825 non-null  object \n",
      " 3   mb_used       104825 non-null  float64\n",
      "dtypes: float64(1), int64(1), object(2)\n",
      "memory usage: 3.2+ MB\n",
      "Este dataset contiene 0 filas duplicadas.\n"
     ]
    }
   ],
   "source": [
    "print(df_internet)\n",
    "\n",
    "df_internet.info()\n",
    "print(\"Este dataset contiene\", df_internet.duplicated().sum(),\"filas duplicadas.\")"
   ]
  },
  {
   "cell_type": "code",
   "execution_count": 6,
   "metadata": {},
   "outputs": [
    {
     "name": "stdout",
     "output_type": "stream",
     "text": [
      "             id  user_id message_date\n",
      "0      1000_125     1000   2018-12-27\n",
      "1      1000_160     1000   2018-12-31\n",
      "2      1000_223     1000   2018-12-31\n",
      "3      1000_251     1000   2018-12-27\n",
      "4      1000_255     1000   2018-12-26\n",
      "...         ...      ...          ...\n",
      "76046  1497_526     1497   2018-12-24\n",
      "76047  1497_536     1497   2018-12-24\n",
      "76048  1497_547     1497   2018-12-31\n",
      "76049  1497_558     1497   2018-12-24\n",
      "76050  1497_613     1497   2018-12-23\n",
      "\n",
      "[76051 rows x 3 columns]\n",
      "<class 'pandas.core.frame.DataFrame'>\n",
      "RangeIndex: 76051 entries, 0 to 76050\n",
      "Data columns (total 3 columns):\n",
      " #   Column        Non-Null Count  Dtype \n",
      "---  ------        --------------  ----- \n",
      " 0   id            76051 non-null  object\n",
      " 1   user_id       76051 non-null  int64 \n",
      " 2   message_date  76051 non-null  object\n",
      "dtypes: int64(1), object(2)\n",
      "memory usage: 1.7+ MB\n",
      "Este dataset contiene 0 filas duplicadas.\n"
     ]
    }
   ],
   "source": [
    "print(df_messages)\n",
    "\n",
    "df_messages.info()\n",
    "print(\"Este dataset contiene\", df_messages.duplicated().sum(),\"filas duplicadas.\")"
   ]
  },
  {
   "cell_type": "code",
   "execution_count": 7,
   "metadata": {},
   "outputs": [
    {
     "name": "stdout",
     "output_type": "stream",
     "text": [
      "   messages_included  mb_per_month_included  minutes_included  \\\n",
      "0                 50                  15360               500   \n",
      "1               1000                  30720              3000   \n",
      "\n",
      "   usd_monthly_pay  usd_per_gb  usd_per_message  usd_per_minute plan_name  \n",
      "0               20          10             0.03            0.03      surf  \n",
      "1               70           7             0.01            0.01  ultimate  \n",
      "<class 'pandas.core.frame.DataFrame'>\n",
      "RangeIndex: 2 entries, 0 to 1\n",
      "Data columns (total 8 columns):\n",
      " #   Column                 Non-Null Count  Dtype  \n",
      "---  ------                 --------------  -----  \n",
      " 0   messages_included      2 non-null      int64  \n",
      " 1   mb_per_month_included  2 non-null      int64  \n",
      " 2   minutes_included       2 non-null      int64  \n",
      " 3   usd_monthly_pay        2 non-null      int64  \n",
      " 4   usd_per_gb             2 non-null      int64  \n",
      " 5   usd_per_message        2 non-null      float64\n",
      " 6   usd_per_minute         2 non-null      float64\n",
      " 7   plan_name              2 non-null      object \n",
      "dtypes: float64(2), int64(5), object(1)\n",
      "memory usage: 256.0+ bytes\n",
      "Este dataset contiene 0 filas duplicadas.\n"
     ]
    }
   ],
   "source": [
    "print(df_plans)\n",
    "df_plans.info()\n",
    "print(\"Este dataset contiene\", df_plans.duplicated().sum(),\"filas duplicadas.\")"
   ]
  },
  {
   "cell_type": "markdown",
   "metadata": {},
   "source": [
    "Aquí observamos que no tenemos filas duplicadas en nuestros datasets. Adicionalmente, deberemos convertir las columnas con fechas, en el tipo de datos adecuado datetime64."
   ]
  },
  {
   "cell_type": "markdown",
   "metadata": {
    "id": "ohBhimvH0q01"
   },
   "source": [
    "## Tarifas"
   ]
  },
  {
   "cell_type": "code",
   "execution_count": 8,
   "metadata": {
    "id": "GptqP3Q40q02"
   },
   "outputs": [
    {
     "name": "stdout",
     "output_type": "stream",
     "text": [
      "<class 'pandas.core.frame.DataFrame'>\n",
      "RangeIndex: 2 entries, 0 to 1\n",
      "Data columns (total 8 columns):\n",
      " #   Column                 Non-Null Count  Dtype  \n",
      "---  ------                 --------------  -----  \n",
      " 0   messages_included      2 non-null      int64  \n",
      " 1   mb_per_month_included  2 non-null      int64  \n",
      " 2   minutes_included       2 non-null      int64  \n",
      " 3   usd_monthly_pay        2 non-null      int64  \n",
      " 4   usd_per_gb             2 non-null      int64  \n",
      " 5   usd_per_message        2 non-null      float64\n",
      " 6   usd_per_minute         2 non-null      float64\n",
      " 7   plan_name              2 non-null      object \n",
      "dtypes: float64(2), int64(5), object(1)\n",
      "memory usage: 256.0+ bytes\n"
     ]
    }
   ],
   "source": [
    "# Imprime la información general/resumida sobre el DataFrame de las tarifas\n",
    "\n",
    "df_plans.info()"
   ]
  },
  {
   "cell_type": "code",
   "execution_count": 9,
   "metadata": {
    "id": "64xzjwL70q02"
   },
   "outputs": [
    {
     "name": "stdout",
     "output_type": "stream",
     "text": [
      "   messages_included  mb_per_month_included  minutes_included  \\\n",
      "0                 50                  15360               500   \n",
      "1               1000                  30720              3000   \n",
      "\n",
      "   usd_monthly_pay  usd_per_gb  usd_per_message  usd_per_minute plan_name  \n",
      "0               20          10             0.03            0.03      surf  \n",
      "1               70           7             0.01            0.01  ultimate  \n"
     ]
    }
   ],
   "source": [
    "# Imprime una muestra de los datos para las tarifas\n",
    "\n",
    "print(df_plans.head())"
   ]
  },
  {
   "cell_type": "markdown",
   "metadata": {
    "id": "mEc_3_hs0q02"
   },
   "source": [
    "\n",
    "En nuestro dataset, observamos tipos de datos enteros y floats, todos los tipos de datos son adecuadso según la información que incluyen en sus columnas. No tenemos datos ausentes. Podríamos definir nuestra columna \"plan_name\" del tipo categórico."
   ]
  },
  {
   "cell_type": "markdown",
   "metadata": {
    "id": "R3C05i1l0q03"
   },
   "source": [
    "## Corregir datos"
   ]
  },
  {
   "cell_type": "markdown",
   "metadata": {
    "id": "bIi8StZI0q03"
   },
   "source": [
    "No hay nada que corregir."
   ]
  },
  {
   "cell_type": "markdown",
   "metadata": {
    "id": "LJir7bml0q03"
   },
   "source": [
    "## Enriquecer los datos"
   ]
  },
  {
   "cell_type": "markdown",
   "metadata": {
    "id": "eqADpCfg0q04"
   },
   "source": [
    "Este dataset nos servirá para agregar información útil en otros Datasets.\n",
    "\n",
    "Podemos observar que nuestro Dataset contiene la columna \"mb_per_month_included\", habremos de tener ésto en cuenta para la transformación de megabytes a gigabytes, ya que la tarifa extra se cobra sobre gigabytes. Deberemos prestar especial atención para evitar confusiones."
   ]
  },
  {
   "cell_type": "markdown",
   "metadata": {
    "id": "1n2X6WXf0q04"
   },
   "source": [
    "## Usuarios/as"
   ]
  },
  {
   "cell_type": "code",
   "execution_count": 10,
   "metadata": {
    "id": "2NgjWFqx0q05"
   },
   "outputs": [
    {
     "name": "stdout",
     "output_type": "stream",
     "text": [
      "<class 'pandas.core.frame.DataFrame'>\n",
      "RangeIndex: 500 entries, 0 to 499\n",
      "Data columns (total 8 columns):\n",
      " #   Column      Non-Null Count  Dtype \n",
      "---  ------      --------------  ----- \n",
      " 0   user_id     500 non-null    int64 \n",
      " 1   first_name  500 non-null    object\n",
      " 2   last_name   500 non-null    object\n",
      " 3   age         500 non-null    int64 \n",
      " 4   city        500 non-null    object\n",
      " 5   reg_date    500 non-null    object\n",
      " 6   plan        500 non-null    object\n",
      " 7   churn_date  34 non-null     object\n",
      "dtypes: int64(2), object(6)\n",
      "memory usage: 31.4+ KB\n"
     ]
    }
   ],
   "source": [
    "# Imprime la información general/resumida sobre el DataFrame de usuarios\n",
    "\n",
    "df_user.info()"
   ]
  },
  {
   "cell_type": "code",
   "execution_count": 11,
   "metadata": {
    "id": "1IN1L9uh0q05"
   },
   "outputs": [
    {
     "name": "stdout",
     "output_type": "stream",
     "text": [
      "   user_id first_name  last_name  age                                   city  \\\n",
      "0     1000   Anamaria      Bauer   45  Atlanta-Sandy Springs-Roswell, GA MSA   \n",
      "1     1001     Mickey  Wilkerson   28        Seattle-Tacoma-Bellevue, WA MSA   \n",
      "2     1002     Carlee    Hoffman   36   Las Vegas-Henderson-Paradise, NV MSA   \n",
      "3     1003   Reynaldo    Jenkins   52                          Tulsa, OK MSA   \n",
      "4     1004    Leonila   Thompson   40        Seattle-Tacoma-Bellevue, WA MSA   \n",
      "\n",
      "     reg_date      plan churn_date  \n",
      "0  2018-12-24  ultimate        NaN  \n",
      "1  2018-08-13      surf        NaN  \n",
      "2  2018-10-21      surf        NaN  \n",
      "3  2018-01-28      surf        NaN  \n",
      "4  2018-05-23      surf        NaN  \n"
     ]
    }
   ],
   "source": [
    "# Imprime una muestra de datos para usuarios\n",
    "\n",
    "print(df_user.head())"
   ]
  },
  {
   "cell_type": "markdown",
   "metadata": {
    "id": "dCZoUq4f0q06"
   },
   "source": [
    "\n",
    "Observamos que la columna \"reg_date\" necesita corrección al tipo de datos datetime64. "
   ]
  },
  {
   "cell_type": "markdown",
   "metadata": {
    "id": "BX5FQh_I0q06"
   },
   "source": [
    "### Corregir los datos"
   ]
  },
  {
   "cell_type": "markdown",
   "metadata": {
    "id": "8OdKMwJv0q06"
   },
   "source": [
    "Corregiremos tipo de datos para la columna con datos de fechas."
   ]
  },
  {
   "cell_type": "code",
   "execution_count": 12,
   "metadata": {
    "id": "yUqX-K0C0q07"
   },
   "outputs": [
    {
     "name": "stdout",
     "output_type": "stream",
     "text": [
      "<class 'pandas.core.frame.DataFrame'>\n",
      "RangeIndex: 500 entries, 0 to 499\n",
      "Data columns (total 8 columns):\n",
      " #   Column      Non-Null Count  Dtype         \n",
      "---  ------      --------------  -----         \n",
      " 0   user_id     500 non-null    int64         \n",
      " 1   first_name  500 non-null    object        \n",
      " 2   last_name   500 non-null    object        \n",
      " 3   age         500 non-null    int64         \n",
      " 4   city        500 non-null    object        \n",
      " 5   reg_date    500 non-null    datetime64[ns]\n",
      " 6   plan        500 non-null    object        \n",
      " 7   churn_date  34 non-null     object        \n",
      "dtypes: datetime64[ns](1), int64(2), object(5)\n",
      "memory usage: 31.4+ KB\n"
     ]
    }
   ],
   "source": [
    "df_user[\"reg_date\"] = pd.to_datetime(df_user[\"reg_date\"],format=\"%Y-%m-%d\")\n",
    "df_user.info()"
   ]
  },
  {
   "cell_type": "markdown",
   "metadata": {
    "id": "ycwuARJp0q07"
   },
   "source": [
    "### Enriquecer los datos"
   ]
  },
  {
   "cell_type": "markdown",
   "metadata": {
    "id": "96NIh4CJ0q08"
   },
   "source": [
    "Agregamos el mes en una columna nueva.\n",
    "\n",
    "Gracias al método info() logramos apreciar que solamente tenemos 34 líneas con datos en la columna \"churn_date\", lo que no representa un problema, ya que al no haber datos en esa columna indica que el usuario no ha cancelado su plan. Es decir que los usuarios para los que tenemos un valor nulo en esta columna, continuan activos con nosotros. "
   ]
  },
  {
   "cell_type": "code",
   "execution_count": 13,
   "metadata": {
    "id": "iq0AaBS90q08"
   },
   "outputs": [],
   "source": [
    "df_user[\"month\"]= df_user[\"reg_date\"].dt.to_period(\"M\").dt.start_time\n"
   ]
  },
  {
   "cell_type": "markdown",
   "metadata": {
    "id": "o7MeKCid0q08"
   },
   "source": [
    "## Llamadas"
   ]
  },
  {
   "cell_type": "code",
   "execution_count": 14,
   "metadata": {
    "id": "6dDlnoDm0q08"
   },
   "outputs": [
    {
     "name": "stdout",
     "output_type": "stream",
     "text": [
      "<class 'pandas.core.frame.DataFrame'>\n",
      "RangeIndex: 137735 entries, 0 to 137734\n",
      "Data columns (total 4 columns):\n",
      " #   Column     Non-Null Count   Dtype  \n",
      "---  ------     --------------   -----  \n",
      " 0   id         137735 non-null  object \n",
      " 1   user_id    137735 non-null  int64  \n",
      " 2   call_date  137735 non-null  object \n",
      " 3   duration   137735 non-null  float64\n",
      "dtypes: float64(1), int64(1), object(2)\n",
      "memory usage: 4.2+ MB\n"
     ]
    }
   ],
   "source": [
    "# Imprime la información general/resumida sobre el DataFrame de las llamadas\n",
    "\n",
    "df_calls.info()"
   ]
  },
  {
   "cell_type": "code",
   "execution_count": 15,
   "metadata": {
    "id": "kuh1vlNB0q09"
   },
   "outputs": [
    {
     "name": "stdout",
     "output_type": "stream",
     "text": [
      "         id  user_id   call_date  duration\n",
      "0   1000_93     1000  2018-12-27      8.52\n",
      "1  1000_145     1000  2018-12-27     13.66\n",
      "2  1000_247     1000  2018-12-27     14.48\n",
      "3  1000_309     1000  2018-12-28      5.76\n",
      "4  1000_380     1000  2018-12-30      4.22\n"
     ]
    }
   ],
   "source": [
    "# Imprime una muestra de datos para las llamadas\n",
    "\n",
    "print(df_calls.head())"
   ]
  },
  {
   "cell_type": "markdown",
   "metadata": {
    "id": "DOAxYJSx0q09"
   },
   "source": [
    "Observamos que la columna \"call_date\" necesita corrección al tipo de datos datetime64."
   ]
  },
  {
   "cell_type": "markdown",
   "metadata": {
    "id": "S7hzxmbX0q0-"
   },
   "source": [
    "### Corregir los datos"
   ]
  },
  {
   "cell_type": "markdown",
   "metadata": {
    "id": "YxWyAjD20q0-"
   },
   "source": [
    "Corregiremos tipo de datos para la columna con datos de fechas."
   ]
  },
  {
   "cell_type": "code",
   "execution_count": 16,
   "metadata": {
    "id": "S2r8xA4f0q0-"
   },
   "outputs": [
    {
     "name": "stdout",
     "output_type": "stream",
     "text": [
      "<class 'pandas.core.frame.DataFrame'>\n",
      "RangeIndex: 137735 entries, 0 to 137734\n",
      "Data columns (total 4 columns):\n",
      " #   Column     Non-Null Count   Dtype         \n",
      "---  ------     --------------   -----         \n",
      " 0   id         137735 non-null  object        \n",
      " 1   user_id    137735 non-null  int64         \n",
      " 2   call_date  137735 non-null  datetime64[ns]\n",
      " 3   duration   137735 non-null  float64       \n",
      "dtypes: datetime64[ns](1), float64(1), int64(1), object(1)\n",
      "memory usage: 4.2+ MB\n"
     ]
    }
   ],
   "source": [
    "df_calls[\"call_date\"] = pd.to_datetime(df_calls[\"call_date\"],format=\"%Y-%m-%d\")\n",
    "df_calls.info()"
   ]
  },
  {
   "cell_type": "markdown",
   "metadata": {
    "id": "KrMgTrlG0q0_"
   },
   "source": [
    "### Enriquecer los datos"
   ]
  },
  {
   "cell_type": "markdown",
   "metadata": {
    "id": "a9MbmEvE0q0_"
   },
   "source": [
    "Agregamos el mes en una columna nueva y redondeamos hacia arriba (con \"np.ceil\") los datos de la columna \"duration\". Tenemos por entendido que las filas con valor \"0\" en la columna \"duration\", indica que el usuario en cuestión no realizó llamadas "
   ]
  },
  {
   "cell_type": "code",
   "execution_count": 17,
   "metadata": {
    "id": "iZ1avpA_0q0_"
   },
   "outputs": [
    {
     "name": "stdout",
     "output_type": "stream",
     "text": [
      "              id  user_id  call_date  duration      month\n",
      "0        1000_93     1000 2018-12-27       9.0 2018-12-01\n",
      "1       1000_145     1000 2018-12-27      14.0 2018-12-01\n",
      "2       1000_247     1000 2018-12-27      15.0 2018-12-01\n",
      "3       1000_309     1000 2018-12-28       6.0 2018-12-01\n",
      "4       1000_380     1000 2018-12-30       5.0 2018-12-01\n",
      "...          ...      ...        ...       ...        ...\n",
      "137730  1499_199     1499 2018-11-21       9.0 2018-11-01\n",
      "137731  1499_200     1499 2018-10-20      11.0 2018-10-01\n",
      "137732  1499_201     1499 2018-09-21       9.0 2018-09-01\n",
      "137733  1499_202     1499 2018-10-10       1.0 2018-10-01\n",
      "137734  1499_203     1499 2018-12-29      14.0 2018-12-01\n",
      "\n",
      "[137735 rows x 5 columns]\n"
     ]
    }
   ],
   "source": [
    "df_calls[\"month\"]= df_calls[\"call_date\"].dt.to_period(\"M\").dt.start_time\n",
    "df_calls[\"duration\"]=np.ceil(df_calls[\"duration\"])\n",
    "print(df_calls)"
   ]
  },
  {
   "cell_type": "markdown",
   "metadata": {
    "id": "mOUZSi180q0_"
   },
   "source": [
    "## Mensajes"
   ]
  },
  {
   "cell_type": "code",
   "execution_count": 18,
   "metadata": {
    "id": "R-bYJpdV0q1A"
   },
   "outputs": [
    {
     "name": "stdout",
     "output_type": "stream",
     "text": [
      "<class 'pandas.core.frame.DataFrame'>\n",
      "RangeIndex: 76051 entries, 0 to 76050\n",
      "Data columns (total 3 columns):\n",
      " #   Column        Non-Null Count  Dtype \n",
      "---  ------        --------------  ----- \n",
      " 0   id            76051 non-null  object\n",
      " 1   user_id       76051 non-null  int64 \n",
      " 2   message_date  76051 non-null  object\n",
      "dtypes: int64(1), object(2)\n",
      "memory usage: 1.7+ MB\n"
     ]
    }
   ],
   "source": [
    "# Imprime la información general/resumida sobre el DataFrame de los mensajes\n",
    "\n",
    "df_messages.info()"
   ]
  },
  {
   "cell_type": "code",
   "execution_count": 19,
   "metadata": {
    "id": "mCEl2iGE0q1A"
   },
   "outputs": [
    {
     "name": "stdout",
     "output_type": "stream",
     "text": [
      "         id  user_id message_date\n",
      "0  1000_125     1000   2018-12-27\n",
      "1  1000_160     1000   2018-12-31\n",
      "2  1000_223     1000   2018-12-31\n",
      "3  1000_251     1000   2018-12-27\n",
      "4  1000_255     1000   2018-12-26\n"
     ]
    }
   ],
   "source": [
    "# Imprime una muestra de datos para los mensajes\n",
    "\n",
    "print(df_messages.head())"
   ]
  },
  {
   "cell_type": "markdown",
   "metadata": {
    "id": "04xDj7KH0q1A"
   },
   "source": [
    "Observamos que la columna \"message_date\" necesita corrección al tipo de datos datetime64."
   ]
  },
  {
   "cell_type": "markdown",
   "metadata": {
    "id": "Sprfak900q1B"
   },
   "source": [
    "### Corregir los datos"
   ]
  },
  {
   "cell_type": "markdown",
   "metadata": {
    "id": "eGw7d9j10q1B"
   },
   "source": [
    "Corregiremos tipo de datos para la columna con datos de fechas."
   ]
  },
  {
   "cell_type": "code",
   "execution_count": 20,
   "metadata": {
    "id": "vsllvkoa0q1B"
   },
   "outputs": [
    {
     "name": "stdout",
     "output_type": "stream",
     "text": [
      "<class 'pandas.core.frame.DataFrame'>\n",
      "RangeIndex: 76051 entries, 0 to 76050\n",
      "Data columns (total 3 columns):\n",
      " #   Column        Non-Null Count  Dtype         \n",
      "---  ------        --------------  -----         \n",
      " 0   id            76051 non-null  object        \n",
      " 1   user_id       76051 non-null  int64         \n",
      " 2   message_date  76051 non-null  datetime64[ns]\n",
      "dtypes: datetime64[ns](1), int64(1), object(1)\n",
      "memory usage: 1.7+ MB\n"
     ]
    }
   ],
   "source": [
    "df_messages[\"message_date\"] = pd.to_datetime(df_messages[\"message_date\"],format=\"%Y-%m-%d\")\n",
    "\n",
    "df_messages.info()"
   ]
  },
  {
   "cell_type": "markdown",
   "metadata": {
    "id": "HvLid7iD0q1B"
   },
   "source": [
    "### Enriquecer los datos"
   ]
  },
  {
   "cell_type": "markdown",
   "metadata": {
    "id": "8nhPFKIe0q1C"
   },
   "source": [
    "Agregamos el mes en una columna nueva."
   ]
  },
  {
   "cell_type": "code",
   "execution_count": 21,
   "metadata": {
    "id": "zYEXZac10q1C"
   },
   "outputs": [],
   "source": [
    "df_messages[\"month\"]= df_messages[\"message_date\"].dt.to_period(\"M\").dt.start_time\n"
   ]
  },
  {
   "cell_type": "markdown",
   "metadata": {
    "id": "bStkaxn40q1C"
   },
   "source": [
    "## Internet"
   ]
  },
  {
   "cell_type": "code",
   "execution_count": 22,
   "metadata": {
    "id": "e-Uz5qyn0q1C"
   },
   "outputs": [
    {
     "name": "stdout",
     "output_type": "stream",
     "text": [
      "<class 'pandas.core.frame.DataFrame'>\n",
      "RangeIndex: 104825 entries, 0 to 104824\n",
      "Data columns (total 4 columns):\n",
      " #   Column        Non-Null Count   Dtype  \n",
      "---  ------        --------------   -----  \n",
      " 0   id            104825 non-null  object \n",
      " 1   user_id       104825 non-null  int64  \n",
      " 2   session_date  104825 non-null  object \n",
      " 3   mb_used       104825 non-null  float64\n",
      "dtypes: float64(1), int64(1), object(2)\n",
      "memory usage: 3.2+ MB\n"
     ]
    }
   ],
   "source": [
    "# Imprime la información general/resumida sobre el DataFrame de internet\n",
    "\n",
    "df_internet.info()"
   ]
  },
  {
   "cell_type": "code",
   "execution_count": 23,
   "metadata": {
    "id": "9r3x_XLw0q1C"
   },
   "outputs": [
    {
     "name": "stdout",
     "output_type": "stream",
     "text": [
      "         id  user_id session_date  mb_used\n",
      "0   1000_13     1000   2018-12-29    89.86\n",
      "1  1000_204     1000   2018-12-31     0.00\n",
      "2  1000_379     1000   2018-12-28   660.40\n",
      "3  1000_413     1000   2018-12-26   270.99\n",
      "4  1000_442     1000   2018-12-27   880.22\n"
     ]
    }
   ],
   "source": [
    "# Imprime una muestra de datos para el tráfico de internet\n",
    "\n",
    "print(df_internet.head())"
   ]
  },
  {
   "cell_type": "markdown",
   "metadata": {
    "id": "EzOG5ik30q1D"
   },
   "source": [
    "Observamos que la columna \"session_date\" necesita corrección al tipo de datos datetime64.\n",
    "\n",
    "Más adelante, cuando agrupemos los datos vamos a tener que redondear hacia arriba los valores de la transformación de mbegabytes a gigabytes, es necesario hacer el redondeo superior debido a que se cobra el costo extra de un gigabyte completo en cuanto se pasa del límite aunque sea por 1 megabyte.Por lo que es necesario hacer la transformación de mb a gb y después hacer el redondeo."
   ]
  },
  {
   "cell_type": "markdown",
   "metadata": {
    "id": "yA0tkPFg0q1D"
   },
   "source": [
    "### Corregir los datos"
   ]
  },
  {
   "cell_type": "markdown",
   "metadata": {
    "id": "zlZMuIEK0q1D"
   },
   "source": [
    "Corregiremos tipo de datos para la columna con datos de fechas."
   ]
  },
  {
   "cell_type": "code",
   "execution_count": 24,
   "metadata": {
    "id": "zVeanzdd0q1E"
   },
   "outputs": [
    {
     "name": "stdout",
     "output_type": "stream",
     "text": [
      "<class 'pandas.core.frame.DataFrame'>\n",
      "RangeIndex: 104825 entries, 0 to 104824\n",
      "Data columns (total 4 columns):\n",
      " #   Column        Non-Null Count   Dtype         \n",
      "---  ------        --------------   -----         \n",
      " 0   id            104825 non-null  object        \n",
      " 1   user_id       104825 non-null  int64         \n",
      " 2   session_date  104825 non-null  datetime64[ns]\n",
      " 3   mb_used       104825 non-null  float64       \n",
      "dtypes: datetime64[ns](1), float64(1), int64(1), object(1)\n",
      "memory usage: 3.2+ MB\n"
     ]
    }
   ],
   "source": [
    "df_internet[\"session_date\"] = pd.to_datetime(df_internet[\"session_date\"],format=\"%Y-%m-%d\")\n",
    "df_internet.info()"
   ]
  },
  {
   "cell_type": "markdown",
   "metadata": {
    "id": "e8_mLF4a0q1E"
   },
   "source": [
    "### Enriquecer los datos"
   ]
  },
  {
   "cell_type": "markdown",
   "metadata": {
    "id": "xhNdn2tE0q1E"
   },
   "source": [
    "Agregamos el mes en una columna nueva."
   ]
  },
  {
   "cell_type": "code",
   "execution_count": 25,
   "metadata": {
    "id": "ESiYPIEK0q1E"
   },
   "outputs": [],
   "source": [
    "df_internet[\"month\"]= df_internet[\"session_date\"].dt.to_period(\"M\").dt.start_time\n"
   ]
  },
  {
   "cell_type": "markdown",
   "metadata": {
    "id": "3UA2cqIW0q1E"
   },
   "source": [
    "## Estudiar las condiciones de las tarifas"
   ]
  },
  {
   "cell_type": "code",
   "execution_count": 26,
   "metadata": {
    "id": "i409op8p0q1F"
   },
   "outputs": [
    {
     "name": "stdout",
     "output_type": "stream",
     "text": [
      "   messages_included  mb_per_month_included  minutes_included  \\\n",
      "0                 50                  15360               500   \n",
      "1               1000                  30720              3000   \n",
      "\n",
      "   usd_monthly_pay  usd_per_gb  usd_per_message  usd_per_minute plan_name  \n",
      "0               20          10             0.03            0.03      surf  \n",
      "1               70           7             0.01            0.01  ultimate  \n"
     ]
    }
   ],
   "source": [
    "# Imprime las condiciones de la tarifa y asegúrate de que te quedan claras\n",
    "\n",
    "print(df_plans)"
   ]
  },
  {
   "cell_type": "markdown",
   "metadata": {
    "id": "hMR1tP5d0q1F"
   },
   "source": [
    "## Agregar datos por usuario\n",
    "\n",
    "Ahora que los datos están limpios, agregaremos los datos por usuario y por periodo para que solo haya un registro por usuario y por periodo. Este es el paso para \"combinar\" nuestros Datasets y trabajarlos posteriormente. "
   ]
  },
  {
   "cell_type": "code",
   "execution_count": 27,
   "metadata": {
    "id": "A332cedB0q1G"
   },
   "outputs": [
    {
     "data": {
      "text/html": [
       "<div>\n",
       "<style scoped>\n",
       "    .dataframe tbody tr th:only-of-type {\n",
       "        vertical-align: middle;\n",
       "    }\n",
       "\n",
       "    .dataframe tbody tr th {\n",
       "        vertical-align: top;\n",
       "    }\n",
       "\n",
       "    .dataframe thead th {\n",
       "        text-align: right;\n",
       "    }\n",
       "</style>\n",
       "<table border=\"1\" class=\"dataframe\">\n",
       "  <thead>\n",
       "    <tr style=\"text-align: right;\">\n",
       "      <th></th>\n",
       "      <th>user_id</th>\n",
       "      <th>month</th>\n",
       "      <th>total_calls</th>\n",
       "      <th>total_minutes</th>\n",
       "    </tr>\n",
       "  </thead>\n",
       "  <tbody>\n",
       "    <tr>\n",
       "      <th>0</th>\n",
       "      <td>1000</td>\n",
       "      <td>2018-12-01</td>\n",
       "      <td>16</td>\n",
       "      <td>124.0</td>\n",
       "    </tr>\n",
       "    <tr>\n",
       "      <th>1</th>\n",
       "      <td>1001</td>\n",
       "      <td>2018-08-01</td>\n",
       "      <td>27</td>\n",
       "      <td>182.0</td>\n",
       "    </tr>\n",
       "    <tr>\n",
       "      <th>2</th>\n",
       "      <td>1001</td>\n",
       "      <td>2018-09-01</td>\n",
       "      <td>49</td>\n",
       "      <td>315.0</td>\n",
       "    </tr>\n",
       "    <tr>\n",
       "      <th>3</th>\n",
       "      <td>1001</td>\n",
       "      <td>2018-10-01</td>\n",
       "      <td>65</td>\n",
       "      <td>393.0</td>\n",
       "    </tr>\n",
       "    <tr>\n",
       "      <th>4</th>\n",
       "      <td>1001</td>\n",
       "      <td>2018-11-01</td>\n",
       "      <td>64</td>\n",
       "      <td>426.0</td>\n",
       "    </tr>\n",
       "  </tbody>\n",
       "</table>\n",
       "</div>"
      ],
      "text/plain": [
       "   user_id      month  total_calls  total_minutes\n",
       "0     1000 2018-12-01           16          124.0\n",
       "1     1001 2018-08-01           27          182.0\n",
       "2     1001 2018-09-01           49          315.0\n",
       "3     1001 2018-10-01           65          393.0\n",
       "4     1001 2018-11-01           64          426.0"
      ]
     },
     "execution_count": 27,
     "metadata": {},
     "output_type": "execute_result"
    }
   ],
   "source": [
    "# Calcula el número de llamadas hechas por cada usuario al mes. Guarda el resultado.\n",
    "# Calcula la cantidad de minutos usados por cada usuario al mes. Guarda el resultado.\n",
    "\n",
    "calls_by_month= df_calls.groupby([\"user_id\",\"month\"]).agg(\n",
    "    total_calls=(\"duration\", \"count\"),\n",
    "    total_minutes=(\"duration\",\"sum\")\n",
    ").reset_index()\n",
    "\n",
    "calls_by_month.head()"
   ]
  },
  {
   "cell_type": "code",
   "execution_count": 28,
   "metadata": {
    "id": "CcQvNHn60q1G"
   },
   "outputs": [
    {
     "data": {
      "text/html": [
       "<div>\n",
       "<style scoped>\n",
       "    .dataframe tbody tr th:only-of-type {\n",
       "        vertical-align: middle;\n",
       "    }\n",
       "\n",
       "    .dataframe tbody tr th {\n",
       "        vertical-align: top;\n",
       "    }\n",
       "\n",
       "    .dataframe thead th {\n",
       "        text-align: right;\n",
       "    }\n",
       "</style>\n",
       "<table border=\"1\" class=\"dataframe\">\n",
       "  <thead>\n",
       "    <tr style=\"text-align: right;\">\n",
       "      <th></th>\n",
       "      <th>user_id</th>\n",
       "      <th>month</th>\n",
       "      <th>total_messages</th>\n",
       "    </tr>\n",
       "  </thead>\n",
       "  <tbody>\n",
       "    <tr>\n",
       "      <th>0</th>\n",
       "      <td>1000</td>\n",
       "      <td>2018-12-01</td>\n",
       "      <td>11</td>\n",
       "    </tr>\n",
       "    <tr>\n",
       "      <th>1</th>\n",
       "      <td>1001</td>\n",
       "      <td>2018-08-01</td>\n",
       "      <td>30</td>\n",
       "    </tr>\n",
       "    <tr>\n",
       "      <th>2</th>\n",
       "      <td>1001</td>\n",
       "      <td>2018-09-01</td>\n",
       "      <td>44</td>\n",
       "    </tr>\n",
       "    <tr>\n",
       "      <th>3</th>\n",
       "      <td>1001</td>\n",
       "      <td>2018-10-01</td>\n",
       "      <td>53</td>\n",
       "    </tr>\n",
       "    <tr>\n",
       "      <th>4</th>\n",
       "      <td>1001</td>\n",
       "      <td>2018-11-01</td>\n",
       "      <td>36</td>\n",
       "    </tr>\n",
       "  </tbody>\n",
       "</table>\n",
       "</div>"
      ],
      "text/plain": [
       "   user_id      month  total_messages\n",
       "0     1000 2018-12-01              11\n",
       "1     1001 2018-08-01              30\n",
       "2     1001 2018-09-01              44\n",
       "3     1001 2018-10-01              53\n",
       "4     1001 2018-11-01              36"
      ]
     },
     "execution_count": 28,
     "metadata": {},
     "output_type": "execute_result"
    }
   ],
   "source": [
    "# Calcula el número de mensajes enviados por cada usuario al mes. Guarda el resultado.\n",
    "\n",
    "messages_by_month= df_messages.groupby([\"user_id\",\"month\"]).agg(\n",
    "    total_messages=(\"id\", \"count\")\n",
    ").reset_index()\n",
    "\n",
    "messages_by_month.head()"
   ]
  },
  {
   "cell_type": "code",
   "execution_count": 29,
   "metadata": {
    "id": "H1AqN2eG0q1H"
   },
   "outputs": [
    {
     "data": {
      "text/html": [
       "<div>\n",
       "<style scoped>\n",
       "    .dataframe tbody tr th:only-of-type {\n",
       "        vertical-align: middle;\n",
       "    }\n",
       "\n",
       "    .dataframe tbody tr th {\n",
       "        vertical-align: top;\n",
       "    }\n",
       "\n",
       "    .dataframe thead th {\n",
       "        text-align: right;\n",
       "    }\n",
       "</style>\n",
       "<table border=\"1\" class=\"dataframe\">\n",
       "  <thead>\n",
       "    <tr style=\"text-align: right;\">\n",
       "      <th></th>\n",
       "      <th>user_id</th>\n",
       "      <th>month</th>\n",
       "      <th>total_mb</th>\n",
       "    </tr>\n",
       "  </thead>\n",
       "  <tbody>\n",
       "    <tr>\n",
       "      <th>0</th>\n",
       "      <td>1000</td>\n",
       "      <td>2018-12-01</td>\n",
       "      <td>1901.47</td>\n",
       "    </tr>\n",
       "    <tr>\n",
       "      <th>1</th>\n",
       "      <td>1001</td>\n",
       "      <td>2018-08-01</td>\n",
       "      <td>6919.15</td>\n",
       "    </tr>\n",
       "    <tr>\n",
       "      <th>2</th>\n",
       "      <td>1001</td>\n",
       "      <td>2018-09-01</td>\n",
       "      <td>13314.82</td>\n",
       "    </tr>\n",
       "    <tr>\n",
       "      <th>3</th>\n",
       "      <td>1001</td>\n",
       "      <td>2018-10-01</td>\n",
       "      <td>22330.49</td>\n",
       "    </tr>\n",
       "    <tr>\n",
       "      <th>4</th>\n",
       "      <td>1001</td>\n",
       "      <td>2018-11-01</td>\n",
       "      <td>18504.30</td>\n",
       "    </tr>\n",
       "  </tbody>\n",
       "</table>\n",
       "</div>"
      ],
      "text/plain": [
       "   user_id      month  total_mb\n",
       "0     1000 2018-12-01   1901.47\n",
       "1     1001 2018-08-01   6919.15\n",
       "2     1001 2018-09-01  13314.82\n",
       "3     1001 2018-10-01  22330.49\n",
       "4     1001 2018-11-01  18504.30"
      ]
     },
     "execution_count": 29,
     "metadata": {},
     "output_type": "execute_result"
    }
   ],
   "source": [
    "# Calcula el volumen del tráfico de Internet usado por cada usuario al mes. Guarda el resultado.\n",
    "\n",
    "internet_by_month= df_internet.groupby([\"user_id\",\"month\"]).agg(\n",
    "    total_mb=(\"mb_used\", \"sum\")\n",
    ").reset_index()\n",
    "\n",
    "internet_by_month.head()"
   ]
  },
  {
   "cell_type": "markdown",
   "metadata": {
    "id": "VDfYXnj80q1H"
   },
   "source": [
    "Unimos los datos agregados en un DataFrame para que haya un registro que represente lo que consumió un usuario único en un mes determinado."
   ]
  },
  {
   "cell_type": "code",
   "execution_count": 30,
   "metadata": {
    "id": "FW99ykyf0q1H"
   },
   "outputs": [
    {
     "data": {
      "text/html": [
       "<div>\n",
       "<style scoped>\n",
       "    .dataframe tbody tr th:only-of-type {\n",
       "        vertical-align: middle;\n",
       "    }\n",
       "\n",
       "    .dataframe tbody tr th {\n",
       "        vertical-align: top;\n",
       "    }\n",
       "\n",
       "    .dataframe thead th {\n",
       "        text-align: right;\n",
       "    }\n",
       "</style>\n",
       "<table border=\"1\" class=\"dataframe\">\n",
       "  <thead>\n",
       "    <tr style=\"text-align: right;\">\n",
       "      <th></th>\n",
       "      <th>user_id</th>\n",
       "      <th>month</th>\n",
       "      <th>total_calls</th>\n",
       "      <th>total_minutes</th>\n",
       "      <th>total_messages</th>\n",
       "    </tr>\n",
       "  </thead>\n",
       "  <tbody>\n",
       "    <tr>\n",
       "      <th>0</th>\n",
       "      <td>1000</td>\n",
       "      <td>2018-12-01</td>\n",
       "      <td>16.0</td>\n",
       "      <td>124.0</td>\n",
       "      <td>11.0</td>\n",
       "    </tr>\n",
       "    <tr>\n",
       "      <th>1</th>\n",
       "      <td>1001</td>\n",
       "      <td>2018-08-01</td>\n",
       "      <td>27.0</td>\n",
       "      <td>182.0</td>\n",
       "      <td>30.0</td>\n",
       "    </tr>\n",
       "    <tr>\n",
       "      <th>2</th>\n",
       "      <td>1001</td>\n",
       "      <td>2018-09-01</td>\n",
       "      <td>49.0</td>\n",
       "      <td>315.0</td>\n",
       "      <td>44.0</td>\n",
       "    </tr>\n",
       "    <tr>\n",
       "      <th>3</th>\n",
       "      <td>1001</td>\n",
       "      <td>2018-10-01</td>\n",
       "      <td>65.0</td>\n",
       "      <td>393.0</td>\n",
       "      <td>53.0</td>\n",
       "    </tr>\n",
       "    <tr>\n",
       "      <th>4</th>\n",
       "      <td>1001</td>\n",
       "      <td>2018-11-01</td>\n",
       "      <td>64.0</td>\n",
       "      <td>426.0</td>\n",
       "      <td>36.0</td>\n",
       "    </tr>\n",
       "  </tbody>\n",
       "</table>\n",
       "</div>"
      ],
      "text/plain": [
       "   user_id      month  total_calls  total_minutes  total_messages\n",
       "0     1000 2018-12-01         16.0          124.0            11.0\n",
       "1     1001 2018-08-01         27.0          182.0            30.0\n",
       "2     1001 2018-09-01         49.0          315.0            44.0\n",
       "3     1001 2018-10-01         65.0          393.0            53.0\n",
       "4     1001 2018-11-01         64.0          426.0            36.0"
      ]
     },
     "execution_count": 30,
     "metadata": {},
     "output_type": "execute_result"
    }
   ],
   "source": [
    "# Fusiona los datos de llamadas, minutos, mensajes e Internet con base en user_id y month\n",
    "\n",
    "users_behavior= pd.merge(\n",
    "    calls_by_month,\n",
    "    messages_by_month,\n",
    "    on=[\"user_id\",\"month\"],\n",
    "    how=\"outer\"\n",
    ")\n",
    "users_behavior.head()"
   ]
  },
  {
   "cell_type": "code",
   "execution_count": 31,
   "metadata": {},
   "outputs": [
    {
     "name": "stdout",
     "output_type": "stream",
     "text": [
      "   user_id      month  total_calls  total_minutes  total_messages  total_mb\n",
      "0     1000 2018-12-01         16.0          124.0            11.0   1901.47\n",
      "1     1001 2018-08-01         27.0          182.0            30.0   6919.15\n",
      "2     1001 2018-09-01         49.0          315.0            44.0  13314.82\n",
      "3     1001 2018-10-01         65.0          393.0            53.0  22330.49\n",
      "4     1001 2018-11-01         64.0          426.0            36.0  18504.30\n",
      "user_id             0\n",
      "month               0\n",
      "total_calls        35\n",
      "total_minutes      35\n",
      "total_messages    487\n",
      "total_mb           16\n",
      "dtype: int64\n"
     ]
    }
   ],
   "source": [
    "users_behavior=pd.merge(\n",
    "    users_behavior,\n",
    "    internet_by_month,\n",
    "    on=[\"user_id\",\"month\"],\n",
    "    how=\"outer\"\n",
    ")\n",
    "print(users_behavior.head())\n",
    "print(users_behavior.isna().sum())"
   ]
  },
  {
   "cell_type": "code",
   "execution_count": 32,
   "metadata": {},
   "outputs": [
    {
     "name": "stdout",
     "output_type": "stream",
     "text": [
      "user_id           0\n",
      "month             0\n",
      "total_calls       0\n",
      "total_minutes     0\n",
      "total_messages    0\n",
      "total_mb          0\n",
      "dtype: int64\n"
     ]
    }
   ],
   "source": [
    "users_behavior[\"total_calls\"].fillna(0, inplace=True)\n",
    "users_behavior[\"total_minutes\"].fillna(0, inplace=True)\n",
    "users_behavior[\"total_messages\"].fillna(0, inplace=True)\n",
    "users_behavior[\"total_mb\"].fillna(0, inplace=True)\n",
    "\n",
    "print(users_behavior.isna().sum())"
   ]
  },
  {
   "cell_type": "code",
   "execution_count": 33,
   "metadata": {
    "id": "0dNOXHag0q1H"
   },
   "outputs": [],
   "source": [
    "# Añade la información de la tarifa\n",
    "\n",
    "df_user_plan=df_user[[\"user_id\",\"plan\", \"city\"]]\n"
   ]
  },
  {
   "cell_type": "code",
   "execution_count": 34,
   "metadata": {},
   "outputs": [
    {
     "data": {
      "text/html": [
       "<div>\n",
       "<style scoped>\n",
       "    .dataframe tbody tr th:only-of-type {\n",
       "        vertical-align: middle;\n",
       "    }\n",
       "\n",
       "    .dataframe tbody tr th {\n",
       "        vertical-align: top;\n",
       "    }\n",
       "\n",
       "    .dataframe thead th {\n",
       "        text-align: right;\n",
       "    }\n",
       "</style>\n",
       "<table border=\"1\" class=\"dataframe\">\n",
       "  <thead>\n",
       "    <tr style=\"text-align: right;\">\n",
       "      <th></th>\n",
       "      <th>user_id</th>\n",
       "      <th>month</th>\n",
       "      <th>total_calls</th>\n",
       "      <th>total_minutes</th>\n",
       "      <th>total_messages</th>\n",
       "      <th>total_mb</th>\n",
       "      <th>plan</th>\n",
       "      <th>city</th>\n",
       "    </tr>\n",
       "  </thead>\n",
       "  <tbody>\n",
       "    <tr>\n",
       "      <th>0</th>\n",
       "      <td>1000</td>\n",
       "      <td>2018-12-01</td>\n",
       "      <td>16.0</td>\n",
       "      <td>124.0</td>\n",
       "      <td>11.0</td>\n",
       "      <td>1901.47</td>\n",
       "      <td>ultimate</td>\n",
       "      <td>Atlanta-Sandy Springs-Roswell, GA MSA</td>\n",
       "    </tr>\n",
       "    <tr>\n",
       "      <th>1</th>\n",
       "      <td>1001</td>\n",
       "      <td>2018-08-01</td>\n",
       "      <td>27.0</td>\n",
       "      <td>182.0</td>\n",
       "      <td>30.0</td>\n",
       "      <td>6919.15</td>\n",
       "      <td>surf</td>\n",
       "      <td>Seattle-Tacoma-Bellevue, WA MSA</td>\n",
       "    </tr>\n",
       "    <tr>\n",
       "      <th>2</th>\n",
       "      <td>1001</td>\n",
       "      <td>2018-09-01</td>\n",
       "      <td>49.0</td>\n",
       "      <td>315.0</td>\n",
       "      <td>44.0</td>\n",
       "      <td>13314.82</td>\n",
       "      <td>surf</td>\n",
       "      <td>Seattle-Tacoma-Bellevue, WA MSA</td>\n",
       "    </tr>\n",
       "    <tr>\n",
       "      <th>3</th>\n",
       "      <td>1001</td>\n",
       "      <td>2018-10-01</td>\n",
       "      <td>65.0</td>\n",
       "      <td>393.0</td>\n",
       "      <td>53.0</td>\n",
       "      <td>22330.49</td>\n",
       "      <td>surf</td>\n",
       "      <td>Seattle-Tacoma-Bellevue, WA MSA</td>\n",
       "    </tr>\n",
       "    <tr>\n",
       "      <th>4</th>\n",
       "      <td>1001</td>\n",
       "      <td>2018-11-01</td>\n",
       "      <td>64.0</td>\n",
       "      <td>426.0</td>\n",
       "      <td>36.0</td>\n",
       "      <td>18504.30</td>\n",
       "      <td>surf</td>\n",
       "      <td>Seattle-Tacoma-Bellevue, WA MSA</td>\n",
       "    </tr>\n",
       "  </tbody>\n",
       "</table>\n",
       "</div>"
      ],
      "text/plain": [
       "   user_id      month  total_calls  total_minutes  total_messages  total_mb  \\\n",
       "0     1000 2018-12-01         16.0          124.0            11.0   1901.47   \n",
       "1     1001 2018-08-01         27.0          182.0            30.0   6919.15   \n",
       "2     1001 2018-09-01         49.0          315.0            44.0  13314.82   \n",
       "3     1001 2018-10-01         65.0          393.0            53.0  22330.49   \n",
       "4     1001 2018-11-01         64.0          426.0            36.0  18504.30   \n",
       "\n",
       "       plan                                   city  \n",
       "0  ultimate  Atlanta-Sandy Springs-Roswell, GA MSA  \n",
       "1      surf        Seattle-Tacoma-Bellevue, WA MSA  \n",
       "2      surf        Seattle-Tacoma-Bellevue, WA MSA  \n",
       "3      surf        Seattle-Tacoma-Bellevue, WA MSA  \n",
       "4      surf        Seattle-Tacoma-Bellevue, WA MSA  "
      ]
     },
     "execution_count": 34,
     "metadata": {},
     "output_type": "execute_result"
    }
   ],
   "source": [
    "new_user_behavior= pd.merge(\n",
    "    users_behavior,\n",
    "    df_user_plan,\n",
    "    on= \"user_id\",\n",
    "    how=\"outer\"\n",
    ")\n",
    "new_user_behavior.head()\n"
   ]
  },
  {
   "cell_type": "code",
   "execution_count": 35,
   "metadata": {},
   "outputs": [
    {
     "name": "stdout",
     "output_type": "stream",
     "text": [
      "<class 'pandas.core.frame.DataFrame'>\n",
      "Int64Index: 2303 entries, 0 to 2302\n",
      "Data columns (total 15 columns):\n",
      " #   Column                 Non-Null Count  Dtype         \n",
      "---  ------                 --------------  -----         \n",
      " 0   user_id                2303 non-null   int64         \n",
      " 1   month                  2293 non-null   datetime64[ns]\n",
      " 2   total_calls            2293 non-null   float64       \n",
      " 3   total_minutes          2293 non-null   float64       \n",
      " 4   total_messages         2293 non-null   float64       \n",
      " 5   total_mb               2293 non-null   float64       \n",
      " 6   plan                   2303 non-null   object        \n",
      " 7   city                   2303 non-null   object        \n",
      " 8   messages_included      2303 non-null   int64         \n",
      " 9   mb_per_month_included  2303 non-null   int64         \n",
      " 10  minutes_included       2303 non-null   int64         \n",
      " 11  usd_monthly_pay        2303 non-null   int64         \n",
      " 12  usd_per_gb             2303 non-null   int64         \n",
      " 13  usd_per_message        2303 non-null   float64       \n",
      " 14  usd_per_minute         2303 non-null   float64       \n",
      "dtypes: datetime64[ns](1), float64(6), int64(6), object(2)\n",
      "memory usage: 287.9+ KB\n"
     ]
    }
   ],
   "source": [
    "total_user_behavior=pd.merge(\n",
    "    new_user_behavior,\n",
    "    df_plans,\n",
    "    left_on=\"plan\",\n",
    "    right_on=\"plan_name\",\n",
    ").drop(columns=\"plan_name\")\n",
    "\n",
    "total_user_behavior.info()"
   ]
  },
  {
   "cell_type": "markdown",
   "metadata": {
    "id": "1IwGo4wg0q1I"
   },
   "source": [
    "Calculamreos los ingresos mensuales por usuario, calculando las diferencias entre minutos, mensajes y mb consumidos multiplicando por la tarifa de excedentes consumidos, según sea el caso para cada usuario. Luego deberemos calcular el ingreso total por usuario por periodo específico. "
   ]
  },
  {
   "cell_type": "code",
   "execution_count": 36,
   "metadata": {
    "id": "5FGCf_c60q1I"
   },
   "outputs": [
    {
     "data": {
      "text/html": [
       "<div>\n",
       "<style scoped>\n",
       "    .dataframe tbody tr th:only-of-type {\n",
       "        vertical-align: middle;\n",
       "    }\n",
       "\n",
       "    .dataframe tbody tr th {\n",
       "        vertical-align: top;\n",
       "    }\n",
       "\n",
       "    .dataframe thead th {\n",
       "        text-align: right;\n",
       "    }\n",
       "</style>\n",
       "<table border=\"1\" class=\"dataframe\">\n",
       "  <thead>\n",
       "    <tr style=\"text-align: right;\">\n",
       "      <th></th>\n",
       "      <th>user_id</th>\n",
       "      <th>month</th>\n",
       "      <th>total_calls</th>\n",
       "      <th>total_minutes</th>\n",
       "      <th>total_messages</th>\n",
       "      <th>total_mb</th>\n",
       "      <th>plan</th>\n",
       "      <th>city</th>\n",
       "      <th>messages_included</th>\n",
       "      <th>mb_per_month_included</th>\n",
       "      <th>minutes_included</th>\n",
       "      <th>usd_monthly_pay</th>\n",
       "      <th>usd_per_gb</th>\n",
       "      <th>usd_per_message</th>\n",
       "      <th>usd_per_minute</th>\n",
       "      <th>dif_minutes</th>\n",
       "      <th>dif_messages</th>\n",
       "      <th>dif_mb</th>\n",
       "    </tr>\n",
       "  </thead>\n",
       "  <tbody>\n",
       "    <tr>\n",
       "      <th>0</th>\n",
       "      <td>1000</td>\n",
       "      <td>2018-12-01</td>\n",
       "      <td>16.0</td>\n",
       "      <td>124.0</td>\n",
       "      <td>11.0</td>\n",
       "      <td>1901.47</td>\n",
       "      <td>ultimate</td>\n",
       "      <td>Atlanta-Sandy Springs-Roswell, GA MSA</td>\n",
       "      <td>1000</td>\n",
       "      <td>30720</td>\n",
       "      <td>3000</td>\n",
       "      <td>70</td>\n",
       "      <td>7</td>\n",
       "      <td>0.01</td>\n",
       "      <td>0.01</td>\n",
       "      <td>-2876.0</td>\n",
       "      <td>-989.0</td>\n",
       "      <td>-28818.53</td>\n",
       "    </tr>\n",
       "    <tr>\n",
       "      <th>1</th>\n",
       "      <td>1006</td>\n",
       "      <td>2018-11-01</td>\n",
       "      <td>2.0</td>\n",
       "      <td>10.0</td>\n",
       "      <td>15.0</td>\n",
       "      <td>2068.37</td>\n",
       "      <td>ultimate</td>\n",
       "      <td>San Francisco-Oakland-Berkeley, CA MSA</td>\n",
       "      <td>1000</td>\n",
       "      <td>30720</td>\n",
       "      <td>3000</td>\n",
       "      <td>70</td>\n",
       "      <td>7</td>\n",
       "      <td>0.01</td>\n",
       "      <td>0.01</td>\n",
       "      <td>-2990.0</td>\n",
       "      <td>-985.0</td>\n",
       "      <td>-28651.63</td>\n",
       "    </tr>\n",
       "    <tr>\n",
       "      <th>2</th>\n",
       "      <td>1006</td>\n",
       "      <td>2018-12-01</td>\n",
       "      <td>9.0</td>\n",
       "      <td>59.0</td>\n",
       "      <td>139.0</td>\n",
       "      <td>32118.82</td>\n",
       "      <td>ultimate</td>\n",
       "      <td>San Francisco-Oakland-Berkeley, CA MSA</td>\n",
       "      <td>1000</td>\n",
       "      <td>30720</td>\n",
       "      <td>3000</td>\n",
       "      <td>70</td>\n",
       "      <td>7</td>\n",
       "      <td>0.01</td>\n",
       "      <td>0.01</td>\n",
       "      <td>-2941.0</td>\n",
       "      <td>-861.0</td>\n",
       "      <td>1398.82</td>\n",
       "    </tr>\n",
       "    <tr>\n",
       "      <th>3</th>\n",
       "      <td>1008</td>\n",
       "      <td>2018-10-01</td>\n",
       "      <td>71.0</td>\n",
       "      <td>476.0</td>\n",
       "      <td>21.0</td>\n",
       "      <td>17106.99</td>\n",
       "      <td>ultimate</td>\n",
       "      <td>Orlando-Kissimmee-Sanford, FL MSA</td>\n",
       "      <td>1000</td>\n",
       "      <td>30720</td>\n",
       "      <td>3000</td>\n",
       "      <td>70</td>\n",
       "      <td>7</td>\n",
       "      <td>0.01</td>\n",
       "      <td>0.01</td>\n",
       "      <td>-2524.0</td>\n",
       "      <td>-979.0</td>\n",
       "      <td>-13613.01</td>\n",
       "    </tr>\n",
       "    <tr>\n",
       "      <th>4</th>\n",
       "      <td>1008</td>\n",
       "      <td>2018-11-01</td>\n",
       "      <td>63.0</td>\n",
       "      <td>446.0</td>\n",
       "      <td>37.0</td>\n",
       "      <td>23676.72</td>\n",
       "      <td>ultimate</td>\n",
       "      <td>Orlando-Kissimmee-Sanford, FL MSA</td>\n",
       "      <td>1000</td>\n",
       "      <td>30720</td>\n",
       "      <td>3000</td>\n",
       "      <td>70</td>\n",
       "      <td>7</td>\n",
       "      <td>0.01</td>\n",
       "      <td>0.01</td>\n",
       "      <td>-2554.0</td>\n",
       "      <td>-963.0</td>\n",
       "      <td>-7043.28</td>\n",
       "    </tr>\n",
       "  </tbody>\n",
       "</table>\n",
       "</div>"
      ],
      "text/plain": [
       "   user_id      month  total_calls  total_minutes  total_messages  total_mb  \\\n",
       "0     1000 2018-12-01         16.0          124.0            11.0   1901.47   \n",
       "1     1006 2018-11-01          2.0           10.0            15.0   2068.37   \n",
       "2     1006 2018-12-01          9.0           59.0           139.0  32118.82   \n",
       "3     1008 2018-10-01         71.0          476.0            21.0  17106.99   \n",
       "4     1008 2018-11-01         63.0          446.0            37.0  23676.72   \n",
       "\n",
       "       plan                                    city  messages_included  \\\n",
       "0  ultimate   Atlanta-Sandy Springs-Roswell, GA MSA               1000   \n",
       "1  ultimate  San Francisco-Oakland-Berkeley, CA MSA               1000   \n",
       "2  ultimate  San Francisco-Oakland-Berkeley, CA MSA               1000   \n",
       "3  ultimate       Orlando-Kissimmee-Sanford, FL MSA               1000   \n",
       "4  ultimate       Orlando-Kissimmee-Sanford, FL MSA               1000   \n",
       "\n",
       "   mb_per_month_included  minutes_included  usd_monthly_pay  usd_per_gb  \\\n",
       "0                  30720              3000               70           7   \n",
       "1                  30720              3000               70           7   \n",
       "2                  30720              3000               70           7   \n",
       "3                  30720              3000               70           7   \n",
       "4                  30720              3000               70           7   \n",
       "\n",
       "   usd_per_message  usd_per_minute  dif_minutes  dif_messages    dif_mb  \n",
       "0             0.01            0.01      -2876.0        -989.0 -28818.53  \n",
       "1             0.01            0.01      -2990.0        -985.0 -28651.63  \n",
       "2             0.01            0.01      -2941.0        -861.0   1398.82  \n",
       "3             0.01            0.01      -2524.0        -979.0 -13613.01  \n",
       "4             0.01            0.01      -2554.0        -963.0  -7043.28  "
      ]
     },
     "execution_count": 36,
     "metadata": {},
     "output_type": "execute_result"
    }
   ],
   "source": [
    "# Calcula el ingreso mensual para cada usuario\n",
    "\n",
    "total_user_behavior[\"dif_minutes\"]=total_user_behavior[\"total_minutes\"] - total_user_behavior[\"minutes_included\"]\n",
    "total_user_behavior[\"dif_messages\"]=total_user_behavior[\"total_messages\"] - total_user_behavior[\"messages_included\"]\n",
    "total_user_behavior[\"dif_mb\"]=total_user_behavior[\"total_mb\"]-total_user_behavior[\"mb_per_month_included\"]\n",
    "\n",
    "total_user_behavior.head()\n"
   ]
  },
  {
   "cell_type": "code",
   "execution_count": 37,
   "metadata": {},
   "outputs": [
    {
     "data": {
      "text/html": [
       "<div>\n",
       "<style scoped>\n",
       "    .dataframe tbody tr th:only-of-type {\n",
       "        vertical-align: middle;\n",
       "    }\n",
       "\n",
       "    .dataframe tbody tr th {\n",
       "        vertical-align: top;\n",
       "    }\n",
       "\n",
       "    .dataframe thead th {\n",
       "        text-align: right;\n",
       "    }\n",
       "</style>\n",
       "<table border=\"1\" class=\"dataframe\">\n",
       "  <thead>\n",
       "    <tr style=\"text-align: right;\">\n",
       "      <th></th>\n",
       "      <th>user_id</th>\n",
       "      <th>month</th>\n",
       "      <th>total_calls</th>\n",
       "      <th>total_minutes</th>\n",
       "      <th>total_messages</th>\n",
       "      <th>total_mb</th>\n",
       "      <th>plan</th>\n",
       "      <th>city</th>\n",
       "      <th>messages_included</th>\n",
       "      <th>mb_per_month_included</th>\n",
       "      <th>minutes_included</th>\n",
       "      <th>usd_monthly_pay</th>\n",
       "      <th>usd_per_gb</th>\n",
       "      <th>usd_per_message</th>\n",
       "      <th>usd_per_minute</th>\n",
       "      <th>dif_minutes</th>\n",
       "      <th>dif_messages</th>\n",
       "      <th>dif_mb</th>\n",
       "    </tr>\n",
       "  </thead>\n",
       "  <tbody>\n",
       "    <tr>\n",
       "      <th>0</th>\n",
       "      <td>1000</td>\n",
       "      <td>2018-12-01</td>\n",
       "      <td>16.0</td>\n",
       "      <td>124.0</td>\n",
       "      <td>11.0</td>\n",
       "      <td>1901.47</td>\n",
       "      <td>ultimate</td>\n",
       "      <td>Atlanta-Sandy Springs-Roswell, GA MSA</td>\n",
       "      <td>1000</td>\n",
       "      <td>30720</td>\n",
       "      <td>3000</td>\n",
       "      <td>70</td>\n",
       "      <td>7</td>\n",
       "      <td>0.01</td>\n",
       "      <td>0.01</td>\n",
       "      <td>0.0</td>\n",
       "      <td>0.0</td>\n",
       "      <td>0.00</td>\n",
       "    </tr>\n",
       "    <tr>\n",
       "      <th>1</th>\n",
       "      <td>1006</td>\n",
       "      <td>2018-11-01</td>\n",
       "      <td>2.0</td>\n",
       "      <td>10.0</td>\n",
       "      <td>15.0</td>\n",
       "      <td>2068.37</td>\n",
       "      <td>ultimate</td>\n",
       "      <td>San Francisco-Oakland-Berkeley, CA MSA</td>\n",
       "      <td>1000</td>\n",
       "      <td>30720</td>\n",
       "      <td>3000</td>\n",
       "      <td>70</td>\n",
       "      <td>7</td>\n",
       "      <td>0.01</td>\n",
       "      <td>0.01</td>\n",
       "      <td>0.0</td>\n",
       "      <td>0.0</td>\n",
       "      <td>0.00</td>\n",
       "    </tr>\n",
       "    <tr>\n",
       "      <th>2</th>\n",
       "      <td>1006</td>\n",
       "      <td>2018-12-01</td>\n",
       "      <td>9.0</td>\n",
       "      <td>59.0</td>\n",
       "      <td>139.0</td>\n",
       "      <td>32118.82</td>\n",
       "      <td>ultimate</td>\n",
       "      <td>San Francisco-Oakland-Berkeley, CA MSA</td>\n",
       "      <td>1000</td>\n",
       "      <td>30720</td>\n",
       "      <td>3000</td>\n",
       "      <td>70</td>\n",
       "      <td>7</td>\n",
       "      <td>0.01</td>\n",
       "      <td>0.01</td>\n",
       "      <td>0.0</td>\n",
       "      <td>0.0</td>\n",
       "      <td>1398.82</td>\n",
       "    </tr>\n",
       "    <tr>\n",
       "      <th>3</th>\n",
       "      <td>1008</td>\n",
       "      <td>2018-10-01</td>\n",
       "      <td>71.0</td>\n",
       "      <td>476.0</td>\n",
       "      <td>21.0</td>\n",
       "      <td>17106.99</td>\n",
       "      <td>ultimate</td>\n",
       "      <td>Orlando-Kissimmee-Sanford, FL MSA</td>\n",
       "      <td>1000</td>\n",
       "      <td>30720</td>\n",
       "      <td>3000</td>\n",
       "      <td>70</td>\n",
       "      <td>7</td>\n",
       "      <td>0.01</td>\n",
       "      <td>0.01</td>\n",
       "      <td>0.0</td>\n",
       "      <td>0.0</td>\n",
       "      <td>0.00</td>\n",
       "    </tr>\n",
       "    <tr>\n",
       "      <th>4</th>\n",
       "      <td>1008</td>\n",
       "      <td>2018-11-01</td>\n",
       "      <td>63.0</td>\n",
       "      <td>446.0</td>\n",
       "      <td>37.0</td>\n",
       "      <td>23676.72</td>\n",
       "      <td>ultimate</td>\n",
       "      <td>Orlando-Kissimmee-Sanford, FL MSA</td>\n",
       "      <td>1000</td>\n",
       "      <td>30720</td>\n",
       "      <td>3000</td>\n",
       "      <td>70</td>\n",
       "      <td>7</td>\n",
       "      <td>0.01</td>\n",
       "      <td>0.01</td>\n",
       "      <td>0.0</td>\n",
       "      <td>0.0</td>\n",
       "      <td>0.00</td>\n",
       "    </tr>\n",
       "  </tbody>\n",
       "</table>\n",
       "</div>"
      ],
      "text/plain": [
       "   user_id      month  total_calls  total_minutes  total_messages  total_mb  \\\n",
       "0     1000 2018-12-01         16.0          124.0            11.0   1901.47   \n",
       "1     1006 2018-11-01          2.0           10.0            15.0   2068.37   \n",
       "2     1006 2018-12-01          9.0           59.0           139.0  32118.82   \n",
       "3     1008 2018-10-01         71.0          476.0            21.0  17106.99   \n",
       "4     1008 2018-11-01         63.0          446.0            37.0  23676.72   \n",
       "\n",
       "       plan                                    city  messages_included  \\\n",
       "0  ultimate   Atlanta-Sandy Springs-Roswell, GA MSA               1000   \n",
       "1  ultimate  San Francisco-Oakland-Berkeley, CA MSA               1000   \n",
       "2  ultimate  San Francisco-Oakland-Berkeley, CA MSA               1000   \n",
       "3  ultimate       Orlando-Kissimmee-Sanford, FL MSA               1000   \n",
       "4  ultimate       Orlando-Kissimmee-Sanford, FL MSA               1000   \n",
       "\n",
       "   mb_per_month_included  minutes_included  usd_monthly_pay  usd_per_gb  \\\n",
       "0                  30720              3000               70           7   \n",
       "1                  30720              3000               70           7   \n",
       "2                  30720              3000               70           7   \n",
       "3                  30720              3000               70           7   \n",
       "4                  30720              3000               70           7   \n",
       "\n",
       "   usd_per_message  usd_per_minute  dif_minutes  dif_messages   dif_mb  \n",
       "0             0.01            0.01          0.0           0.0     0.00  \n",
       "1             0.01            0.01          0.0           0.0     0.00  \n",
       "2             0.01            0.01          0.0           0.0  1398.82  \n",
       "3             0.01            0.01          0.0           0.0     0.00  \n",
       "4             0.01            0.01          0.0           0.0     0.00  "
      ]
     },
     "execution_count": 37,
     "metadata": {},
     "output_type": "execute_result"
    }
   ],
   "source": [
    "total_user_behavior.loc[total_user_behavior[\"dif_minutes\"] < 0, \"dif_minutes\"] = 0\n",
    "        \n",
    "total_user_behavior.loc[total_user_behavior[\"dif_messages\"] < 0, \"dif_messages\"] = 0\n",
    "\n",
    "total_user_behavior.loc[total_user_behavior[\"dif_mb\"] < 0, \"dif_mb\"] = 0\n",
    "        \n",
    "total_user_behavior.head()"
   ]
  },
  {
   "cell_type": "markdown",
   "metadata": {},
   "source": [
    "Primero vamos a convertir nuestros mb a GB y a redondearlo, para realizar los cálculos de manera adecuada. "
   ]
  },
  {
   "cell_type": "code",
   "execution_count": 38,
   "metadata": {},
   "outputs": [
    {
     "data": {
      "text/html": [
       "<div>\n",
       "<style scoped>\n",
       "    .dataframe tbody tr th:only-of-type {\n",
       "        vertical-align: middle;\n",
       "    }\n",
       "\n",
       "    .dataframe tbody tr th {\n",
       "        vertical-align: top;\n",
       "    }\n",
       "\n",
       "    .dataframe thead th {\n",
       "        text-align: right;\n",
       "    }\n",
       "</style>\n",
       "<table border=\"1\" class=\"dataframe\">\n",
       "  <thead>\n",
       "    <tr style=\"text-align: right;\">\n",
       "      <th></th>\n",
       "      <th>user_id</th>\n",
       "      <th>month</th>\n",
       "      <th>total_calls</th>\n",
       "      <th>total_minutes</th>\n",
       "      <th>total_messages</th>\n",
       "      <th>total_mb</th>\n",
       "      <th>plan</th>\n",
       "      <th>city</th>\n",
       "      <th>messages_included</th>\n",
       "      <th>mb_per_month_included</th>\n",
       "      <th>minutes_included</th>\n",
       "      <th>usd_monthly_pay</th>\n",
       "      <th>usd_per_gb</th>\n",
       "      <th>usd_per_message</th>\n",
       "      <th>usd_per_minute</th>\n",
       "      <th>dif_minutes</th>\n",
       "      <th>dif_messages</th>\n",
       "      <th>dif_mb</th>\n",
       "      <th>dif_gb</th>\n",
       "    </tr>\n",
       "  </thead>\n",
       "  <tbody>\n",
       "    <tr>\n",
       "      <th>0</th>\n",
       "      <td>1000</td>\n",
       "      <td>2018-12-01</td>\n",
       "      <td>16.0</td>\n",
       "      <td>124.0</td>\n",
       "      <td>11.0</td>\n",
       "      <td>1901.47</td>\n",
       "      <td>ultimate</td>\n",
       "      <td>Atlanta-Sandy Springs-Roswell, GA MSA</td>\n",
       "      <td>1000</td>\n",
       "      <td>30720</td>\n",
       "      <td>3000</td>\n",
       "      <td>70</td>\n",
       "      <td>7</td>\n",
       "      <td>0.01</td>\n",
       "      <td>0.01</td>\n",
       "      <td>0.0</td>\n",
       "      <td>0.0</td>\n",
       "      <td>0.00</td>\n",
       "      <td>0.0</td>\n",
       "    </tr>\n",
       "    <tr>\n",
       "      <th>1</th>\n",
       "      <td>1006</td>\n",
       "      <td>2018-11-01</td>\n",
       "      <td>2.0</td>\n",
       "      <td>10.0</td>\n",
       "      <td>15.0</td>\n",
       "      <td>2068.37</td>\n",
       "      <td>ultimate</td>\n",
       "      <td>San Francisco-Oakland-Berkeley, CA MSA</td>\n",
       "      <td>1000</td>\n",
       "      <td>30720</td>\n",
       "      <td>3000</td>\n",
       "      <td>70</td>\n",
       "      <td>7</td>\n",
       "      <td>0.01</td>\n",
       "      <td>0.01</td>\n",
       "      <td>0.0</td>\n",
       "      <td>0.0</td>\n",
       "      <td>0.00</td>\n",
       "      <td>0.0</td>\n",
       "    </tr>\n",
       "    <tr>\n",
       "      <th>2</th>\n",
       "      <td>1006</td>\n",
       "      <td>2018-12-01</td>\n",
       "      <td>9.0</td>\n",
       "      <td>59.0</td>\n",
       "      <td>139.0</td>\n",
       "      <td>32118.82</td>\n",
       "      <td>ultimate</td>\n",
       "      <td>San Francisco-Oakland-Berkeley, CA MSA</td>\n",
       "      <td>1000</td>\n",
       "      <td>30720</td>\n",
       "      <td>3000</td>\n",
       "      <td>70</td>\n",
       "      <td>7</td>\n",
       "      <td>0.01</td>\n",
       "      <td>0.01</td>\n",
       "      <td>0.0</td>\n",
       "      <td>0.0</td>\n",
       "      <td>1398.82</td>\n",
       "      <td>2.0</td>\n",
       "    </tr>\n",
       "    <tr>\n",
       "      <th>3</th>\n",
       "      <td>1008</td>\n",
       "      <td>2018-10-01</td>\n",
       "      <td>71.0</td>\n",
       "      <td>476.0</td>\n",
       "      <td>21.0</td>\n",
       "      <td>17106.99</td>\n",
       "      <td>ultimate</td>\n",
       "      <td>Orlando-Kissimmee-Sanford, FL MSA</td>\n",
       "      <td>1000</td>\n",
       "      <td>30720</td>\n",
       "      <td>3000</td>\n",
       "      <td>70</td>\n",
       "      <td>7</td>\n",
       "      <td>0.01</td>\n",
       "      <td>0.01</td>\n",
       "      <td>0.0</td>\n",
       "      <td>0.0</td>\n",
       "      <td>0.00</td>\n",
       "      <td>0.0</td>\n",
       "    </tr>\n",
       "    <tr>\n",
       "      <th>4</th>\n",
       "      <td>1008</td>\n",
       "      <td>2018-11-01</td>\n",
       "      <td>63.0</td>\n",
       "      <td>446.0</td>\n",
       "      <td>37.0</td>\n",
       "      <td>23676.72</td>\n",
       "      <td>ultimate</td>\n",
       "      <td>Orlando-Kissimmee-Sanford, FL MSA</td>\n",
       "      <td>1000</td>\n",
       "      <td>30720</td>\n",
       "      <td>3000</td>\n",
       "      <td>70</td>\n",
       "      <td>7</td>\n",
       "      <td>0.01</td>\n",
       "      <td>0.01</td>\n",
       "      <td>0.0</td>\n",
       "      <td>0.0</td>\n",
       "      <td>0.00</td>\n",
       "      <td>0.0</td>\n",
       "    </tr>\n",
       "  </tbody>\n",
       "</table>\n",
       "</div>"
      ],
      "text/plain": [
       "   user_id      month  total_calls  total_minutes  total_messages  total_mb  \\\n",
       "0     1000 2018-12-01         16.0          124.0            11.0   1901.47   \n",
       "1     1006 2018-11-01          2.0           10.0            15.0   2068.37   \n",
       "2     1006 2018-12-01          9.0           59.0           139.0  32118.82   \n",
       "3     1008 2018-10-01         71.0          476.0            21.0  17106.99   \n",
       "4     1008 2018-11-01         63.0          446.0            37.0  23676.72   \n",
       "\n",
       "       plan                                    city  messages_included  \\\n",
       "0  ultimate   Atlanta-Sandy Springs-Roswell, GA MSA               1000   \n",
       "1  ultimate  San Francisco-Oakland-Berkeley, CA MSA               1000   \n",
       "2  ultimate  San Francisco-Oakland-Berkeley, CA MSA               1000   \n",
       "3  ultimate       Orlando-Kissimmee-Sanford, FL MSA               1000   \n",
       "4  ultimate       Orlando-Kissimmee-Sanford, FL MSA               1000   \n",
       "\n",
       "   mb_per_month_included  minutes_included  usd_monthly_pay  usd_per_gb  \\\n",
       "0                  30720              3000               70           7   \n",
       "1                  30720              3000               70           7   \n",
       "2                  30720              3000               70           7   \n",
       "3                  30720              3000               70           7   \n",
       "4                  30720              3000               70           7   \n",
       "\n",
       "   usd_per_message  usd_per_minute  dif_minutes  dif_messages   dif_mb  dif_gb  \n",
       "0             0.01            0.01          0.0           0.0     0.00     0.0  \n",
       "1             0.01            0.01          0.0           0.0     0.00     0.0  \n",
       "2             0.01            0.01          0.0           0.0  1398.82     2.0  \n",
       "3             0.01            0.01          0.0           0.0     0.00     0.0  \n",
       "4             0.01            0.01          0.0           0.0     0.00     0.0  "
      ]
     },
     "execution_count": 38,
     "metadata": {},
     "output_type": "execute_result"
    }
   ],
   "source": [
    "total_user_behavior[\"dif_gb\"]= total_user_behavior[\"dif_mb\"] / 1024\n",
    "total_user_behavior[\"dif_gb\"]=np.ceil(total_user_behavior[\"dif_gb\"])\n",
    "\n",
    "total_user_behavior.head()"
   ]
  },
  {
   "cell_type": "markdown",
   "metadata": {},
   "source": [
    "Antes de comenzar con las operaciones entre columnas de nuestro dataset, corregiremos nuestras filas con valores nulos."
   ]
  },
  {
   "cell_type": "code",
   "execution_count": 39,
   "metadata": {},
   "outputs": [
    {
     "name": "stdout",
     "output_type": "stream",
     "text": [
      "user_id                   0\n",
      "month                    10\n",
      "total_calls              10\n",
      "total_minutes            10\n",
      "total_messages           10\n",
      "total_mb                 10\n",
      "plan                      0\n",
      "city                      0\n",
      "messages_included         0\n",
      "mb_per_month_included     0\n",
      "minutes_included          0\n",
      "usd_monthly_pay           0\n",
      "usd_per_gb                0\n",
      "usd_per_message           0\n",
      "usd_per_minute            0\n",
      "dif_minutes              10\n",
      "dif_messages             10\n",
      "dif_mb                   10\n",
      "dif_gb                   10\n",
      "dtype: int64\n",
      "<class 'pandas.core.frame.DataFrame'>\n",
      "Int64Index: 2303 entries, 0 to 2302\n",
      "Data columns (total 19 columns):\n",
      " #   Column                 Non-Null Count  Dtype         \n",
      "---  ------                 --------------  -----         \n",
      " 0   user_id                2303 non-null   int64         \n",
      " 1   month                  2293 non-null   datetime64[ns]\n",
      " 2   total_calls            2293 non-null   float64       \n",
      " 3   total_minutes          2293 non-null   float64       \n",
      " 4   total_messages         2293 non-null   float64       \n",
      " 5   total_mb               2293 non-null   float64       \n",
      " 6   plan                   2303 non-null   object        \n",
      " 7   city                   2303 non-null   object        \n",
      " 8   messages_included      2303 non-null   int64         \n",
      " 9   mb_per_month_included  2303 non-null   int64         \n",
      " 10  minutes_included       2303 non-null   int64         \n",
      " 11  usd_monthly_pay        2303 non-null   int64         \n",
      " 12  usd_per_gb             2303 non-null   int64         \n",
      " 13  usd_per_message        2303 non-null   float64       \n",
      " 14  usd_per_minute         2303 non-null   float64       \n",
      " 15  dif_minutes            2293 non-null   float64       \n",
      " 16  dif_messages           2293 non-null   float64       \n",
      " 17  dif_mb                 2293 non-null   float64       \n",
      " 18  dif_gb                 2293 non-null   float64       \n",
      "dtypes: datetime64[ns](1), float64(10), int64(6), object(2)\n",
      "memory usage: 359.8+ KB\n"
     ]
    }
   ],
   "source": [
    "print(total_user_behavior.isna().sum())\n",
    "total_user_behavior.info()"
   ]
  },
  {
   "cell_type": "code",
   "execution_count": 40,
   "metadata": {},
   "outputs": [
    {
     "name": "stdout",
     "output_type": "stream",
     "text": [
      "user_id                  0\n",
      "month                    0\n",
      "total_calls              0\n",
      "total_minutes            0\n",
      "total_messages           0\n",
      "total_mb                 0\n",
      "plan                     0\n",
      "city                     0\n",
      "messages_included        0\n",
      "mb_per_month_included    0\n",
      "minutes_included         0\n",
      "usd_monthly_pay          0\n",
      "usd_per_gb               0\n",
      "usd_per_message          0\n",
      "usd_per_minute           0\n",
      "dif_minutes              0\n",
      "dif_messages             0\n",
      "dif_mb                   0\n",
      "dif_gb                   0\n",
      "dtype: int64\n"
     ]
    }
   ],
   "source": [
    "total_user_behavior = total_user_behavior.dropna(subset=[\"month\"])\n",
    "\n",
    "print(total_user_behavior.isna().sum())"
   ]
  },
  {
   "cell_type": "code",
   "execution_count": 41,
   "metadata": {},
   "outputs": [
    {
     "data": {
      "text/html": [
       "<div>\n",
       "<style scoped>\n",
       "    .dataframe tbody tr th:only-of-type {\n",
       "        vertical-align: middle;\n",
       "    }\n",
       "\n",
       "    .dataframe tbody tr th {\n",
       "        vertical-align: top;\n",
       "    }\n",
       "\n",
       "    .dataframe thead th {\n",
       "        text-align: right;\n",
       "    }\n",
       "</style>\n",
       "<table border=\"1\" class=\"dataframe\">\n",
       "  <thead>\n",
       "    <tr style=\"text-align: right;\">\n",
       "      <th></th>\n",
       "      <th>user_id</th>\n",
       "      <th>month</th>\n",
       "      <th>total_calls</th>\n",
       "      <th>total_minutes</th>\n",
       "      <th>total_messages</th>\n",
       "      <th>total_mb</th>\n",
       "      <th>plan</th>\n",
       "      <th>city</th>\n",
       "      <th>messages_included</th>\n",
       "      <th>mb_per_month_included</th>\n",
       "      <th>...</th>\n",
       "      <th>usd_monthly_pay</th>\n",
       "      <th>usd_per_gb</th>\n",
       "      <th>usd_per_message</th>\n",
       "      <th>usd_per_minute</th>\n",
       "      <th>dif_minutes</th>\n",
       "      <th>dif_messages</th>\n",
       "      <th>dif_mb</th>\n",
       "      <th>dif_gb</th>\n",
       "      <th>extra_income</th>\n",
       "      <th>total_income</th>\n",
       "    </tr>\n",
       "  </thead>\n",
       "  <tbody>\n",
       "    <tr>\n",
       "      <th>0</th>\n",
       "      <td>1000</td>\n",
       "      <td>2018-12-01</td>\n",
       "      <td>16.0</td>\n",
       "      <td>124.0</td>\n",
       "      <td>11.0</td>\n",
       "      <td>1901.47</td>\n",
       "      <td>ultimate</td>\n",
       "      <td>Atlanta-Sandy Springs-Roswell, GA MSA</td>\n",
       "      <td>1000</td>\n",
       "      <td>30720</td>\n",
       "      <td>...</td>\n",
       "      <td>70</td>\n",
       "      <td>7</td>\n",
       "      <td>0.01</td>\n",
       "      <td>0.01</td>\n",
       "      <td>0.0</td>\n",
       "      <td>0.0</td>\n",
       "      <td>0.00</td>\n",
       "      <td>0.0</td>\n",
       "      <td>0.0</td>\n",
       "      <td>70.0</td>\n",
       "    </tr>\n",
       "    <tr>\n",
       "      <th>1</th>\n",
       "      <td>1006</td>\n",
       "      <td>2018-11-01</td>\n",
       "      <td>2.0</td>\n",
       "      <td>10.0</td>\n",
       "      <td>15.0</td>\n",
       "      <td>2068.37</td>\n",
       "      <td>ultimate</td>\n",
       "      <td>San Francisco-Oakland-Berkeley, CA MSA</td>\n",
       "      <td>1000</td>\n",
       "      <td>30720</td>\n",
       "      <td>...</td>\n",
       "      <td>70</td>\n",
       "      <td>7</td>\n",
       "      <td>0.01</td>\n",
       "      <td>0.01</td>\n",
       "      <td>0.0</td>\n",
       "      <td>0.0</td>\n",
       "      <td>0.00</td>\n",
       "      <td>0.0</td>\n",
       "      <td>0.0</td>\n",
       "      <td>70.0</td>\n",
       "    </tr>\n",
       "    <tr>\n",
       "      <th>2</th>\n",
       "      <td>1006</td>\n",
       "      <td>2018-12-01</td>\n",
       "      <td>9.0</td>\n",
       "      <td>59.0</td>\n",
       "      <td>139.0</td>\n",
       "      <td>32118.82</td>\n",
       "      <td>ultimate</td>\n",
       "      <td>San Francisco-Oakland-Berkeley, CA MSA</td>\n",
       "      <td>1000</td>\n",
       "      <td>30720</td>\n",
       "      <td>...</td>\n",
       "      <td>70</td>\n",
       "      <td>7</td>\n",
       "      <td>0.01</td>\n",
       "      <td>0.01</td>\n",
       "      <td>0.0</td>\n",
       "      <td>0.0</td>\n",
       "      <td>1398.82</td>\n",
       "      <td>2.0</td>\n",
       "      <td>14.0</td>\n",
       "      <td>84.0</td>\n",
       "    </tr>\n",
       "    <tr>\n",
       "      <th>3</th>\n",
       "      <td>1008</td>\n",
       "      <td>2018-10-01</td>\n",
       "      <td>71.0</td>\n",
       "      <td>476.0</td>\n",
       "      <td>21.0</td>\n",
       "      <td>17106.99</td>\n",
       "      <td>ultimate</td>\n",
       "      <td>Orlando-Kissimmee-Sanford, FL MSA</td>\n",
       "      <td>1000</td>\n",
       "      <td>30720</td>\n",
       "      <td>...</td>\n",
       "      <td>70</td>\n",
       "      <td>7</td>\n",
       "      <td>0.01</td>\n",
       "      <td>0.01</td>\n",
       "      <td>0.0</td>\n",
       "      <td>0.0</td>\n",
       "      <td>0.00</td>\n",
       "      <td>0.0</td>\n",
       "      <td>0.0</td>\n",
       "      <td>70.0</td>\n",
       "    </tr>\n",
       "    <tr>\n",
       "      <th>4</th>\n",
       "      <td>1008</td>\n",
       "      <td>2018-11-01</td>\n",
       "      <td>63.0</td>\n",
       "      <td>446.0</td>\n",
       "      <td>37.0</td>\n",
       "      <td>23676.72</td>\n",
       "      <td>ultimate</td>\n",
       "      <td>Orlando-Kissimmee-Sanford, FL MSA</td>\n",
       "      <td>1000</td>\n",
       "      <td>30720</td>\n",
       "      <td>...</td>\n",
       "      <td>70</td>\n",
       "      <td>7</td>\n",
       "      <td>0.01</td>\n",
       "      <td>0.01</td>\n",
       "      <td>0.0</td>\n",
       "      <td>0.0</td>\n",
       "      <td>0.00</td>\n",
       "      <td>0.0</td>\n",
       "      <td>0.0</td>\n",
       "      <td>70.0</td>\n",
       "    </tr>\n",
       "  </tbody>\n",
       "</table>\n",
       "<p>5 rows × 21 columns</p>\n",
       "</div>"
      ],
      "text/plain": [
       "   user_id      month  total_calls  total_minutes  total_messages  total_mb  \\\n",
       "0     1000 2018-12-01         16.0          124.0            11.0   1901.47   \n",
       "1     1006 2018-11-01          2.0           10.0            15.0   2068.37   \n",
       "2     1006 2018-12-01          9.0           59.0           139.0  32118.82   \n",
       "3     1008 2018-10-01         71.0          476.0            21.0  17106.99   \n",
       "4     1008 2018-11-01         63.0          446.0            37.0  23676.72   \n",
       "\n",
       "       plan                                    city  messages_included  \\\n",
       "0  ultimate   Atlanta-Sandy Springs-Roswell, GA MSA               1000   \n",
       "1  ultimate  San Francisco-Oakland-Berkeley, CA MSA               1000   \n",
       "2  ultimate  San Francisco-Oakland-Berkeley, CA MSA               1000   \n",
       "3  ultimate       Orlando-Kissimmee-Sanford, FL MSA               1000   \n",
       "4  ultimate       Orlando-Kissimmee-Sanford, FL MSA               1000   \n",
       "\n",
       "   mb_per_month_included  ...  usd_monthly_pay  usd_per_gb  usd_per_message  \\\n",
       "0                  30720  ...               70           7             0.01   \n",
       "1                  30720  ...               70           7             0.01   \n",
       "2                  30720  ...               70           7             0.01   \n",
       "3                  30720  ...               70           7             0.01   \n",
       "4                  30720  ...               70           7             0.01   \n",
       "\n",
       "   usd_per_minute  dif_minutes  dif_messages   dif_mb  dif_gb  extra_income  \\\n",
       "0            0.01          0.0           0.0     0.00     0.0           0.0   \n",
       "1            0.01          0.0           0.0     0.00     0.0           0.0   \n",
       "2            0.01          0.0           0.0  1398.82     2.0          14.0   \n",
       "3            0.01          0.0           0.0     0.00     0.0           0.0   \n",
       "4            0.01          0.0           0.0     0.00     0.0           0.0   \n",
       "\n",
       "   total_income  \n",
       "0          70.0  \n",
       "1          70.0  \n",
       "2          84.0  \n",
       "3          70.0  \n",
       "4          70.0  \n",
       "\n",
       "[5 rows x 21 columns]"
      ]
     },
     "execution_count": 41,
     "metadata": {},
     "output_type": "execute_result"
    }
   ],
   "source": [
    "total_user_behavior[\"extra_income\"]= ((total_user_behavior[\"dif_minutes\"] * total_user_behavior[\"usd_per_minute\"])+(total_user_behavior[\"dif_messages\"] * total_user_behavior[\"usd_per_message\"])+(total_user_behavior[\"dif_gb\"] * total_user_behavior[\"usd_per_gb\"]))\n",
    "total_user_behavior[\"total_income\"]= total_user_behavior[\"extra_income\"] + total_user_behavior[\"usd_monthly_pay\"]\n",
    "total_user_behavior.head()\n"
   ]
  },
  {
   "cell_type": "code",
   "execution_count": 42,
   "metadata": {},
   "outputs": [
    {
     "name": "stdout",
     "output_type": "stream",
     "text": [
      "<class 'pandas.core.frame.DataFrame'>\n",
      "Int64Index: 2293 entries, 0 to 2296\n",
      "Data columns (total 21 columns):\n",
      " #   Column                 Non-Null Count  Dtype         \n",
      "---  ------                 --------------  -----         \n",
      " 0   user_id                2293 non-null   int64         \n",
      " 1   month                  2293 non-null   datetime64[ns]\n",
      " 2   total_calls            2293 non-null   float64       \n",
      " 3   total_minutes          2293 non-null   float64       \n",
      " 4   total_messages         2293 non-null   float64       \n",
      " 5   total_mb               2293 non-null   float64       \n",
      " 6   plan                   2293 non-null   object        \n",
      " 7   city                   2293 non-null   object        \n",
      " 8   messages_included      2293 non-null   int64         \n",
      " 9   mb_per_month_included  2293 non-null   int64         \n",
      " 10  minutes_included       2293 non-null   int64         \n",
      " 11  usd_monthly_pay        2293 non-null   int64         \n",
      " 12  usd_per_gb             2293 non-null   int64         \n",
      " 13  usd_per_message        2293 non-null   float64       \n",
      " 14  usd_per_minute         2293 non-null   float64       \n",
      " 15  dif_minutes            2293 non-null   float64       \n",
      " 16  dif_messages           2293 non-null   float64       \n",
      " 17  dif_mb                 2293 non-null   float64       \n",
      " 18  dif_gb                 2293 non-null   float64       \n",
      " 19  extra_income           2293 non-null   float64       \n",
      " 20  total_income           2293 non-null   float64       \n",
      "dtypes: datetime64[ns](1), float64(12), int64(6), object(2)\n",
      "memory usage: 394.1+ KB\n"
     ]
    }
   ],
   "source": [
    "\n",
    "total_user_behavior.info()"
   ]
  },
  {
   "cell_type": "markdown",
   "metadata": {
    "id": "-jtyHzJb0q1I"
   },
   "source": [
    "## Estudia el comportamiento de usuario"
   ]
  },
  {
   "cell_type": "markdown",
   "metadata": {
    "id": "AxU3Y0N70q1J"
   },
   "source": [
    "Calcularemoa algunas estadísticas descriptivas para los datos agregados y fusionados que nos sean útiles y que muestren un panorama general captado por los datos. \n"
   ]
  },
  {
   "cell_type": "markdown",
   "metadata": {
    "id": "vtW4CJEe0q1J"
   },
   "source": [
    "### Llamadas"
   ]
  },
  {
   "cell_type": "code",
   "execution_count": 43,
   "metadata": {
    "id": "Jf5v5--k0q1J"
   },
   "outputs": [],
   "source": [
    "# Compara la duración promedio de llamadas por cada plan y por cada mes. Traza un gráfico de barras para visualizarla.\n",
    "\n",
    "surf_behavior=total_user_behavior.query(\"plan=='surf'\") \n",
    "ultimate_behavior=total_user_behavior.query(\"plan=='ultimate'\")"
   ]
  },
  {
   "cell_type": "code",
   "execution_count": 44,
   "metadata": {},
   "outputs": [],
   "source": [
    "agg_dict={\"total_minutes\":\"mean\"}\n",
    "per_month_surf=surf_behavior.groupby(\"month\")\n",
    "per_month_ultimate=ultimate_behavior.groupby(\"month\")"
   ]
  },
  {
   "cell_type": "code",
   "execution_count": 45,
   "metadata": {},
   "outputs": [],
   "source": [
    "surf_mean=per_month_surf.agg(agg_dict)\n",
    "ultimate_mean=per_month_ultimate.agg(agg_dict)\n"
   ]
  },
  {
   "cell_type": "code",
   "execution_count": 46,
   "metadata": {},
   "outputs": [
    {
     "name": "stdout",
     "output_type": "stream",
     "text": [
      "            total_minutes\n",
      "month                    \n",
      "2018-01-01     203.000000\n",
      "2018-02-01     297.000000\n",
      "2018-03-01     330.000000\n",
      "2018-04-01     351.540000\n",
      "2018-05-01     399.584416\n",
      "2018-06-01     431.298969\n",
      "2018-07-01     449.983471\n",
      "2018-08-01     410.111111\n",
      "2018-09-01     414.226804\n",
      "2018-10-01     429.729958\n",
      "2018-11-01     423.325088\n",
      "2018-12-01     473.836478\n",
      "            total_minutes\n",
      "month                    \n",
      "2018-01-01     193.500000\n",
      "2018-02-01     403.142857\n",
      "2018-03-01     304.250000\n",
      "2018-04-01     336.857143\n",
      "2018-05-01     406.241379\n",
      "2018-06-01     370.957447\n",
      "2018-07-01     427.067797\n",
      "2018-08-01     421.436620\n",
      "2018-09-01     437.511628\n",
      "2018-10-01     450.735849\n",
      "2018-11-01     445.196850\n",
      "2018-12-01     459.099338\n"
     ]
    }
   ],
   "source": [
    "print(surf_mean)\n",
    "print(ultimate_mean)\n"
   ]
  },
  {
   "cell_type": "code",
   "execution_count": 47,
   "metadata": {},
   "outputs": [
    {
     "data": {
      "image/png": "[encoded data removed]",
      "text/plain": [
       "<Figure size 720x360 with 1 Axes>"
      ]
     },
     "metadata": {
      "needs_background": "light"
     },
     "output_type": "display_data"
    },
    {
     "data": {
      "image/png": "[encoded data removed]",
      "text/plain": [
       "<Figure size 720x360 with 1 Axes>"
      ]
     },
     "metadata": {
      "needs_background": "light"
     },
     "output_type": "display_data"
    }
   ],
   "source": [
    "surf_mean.plot(kind=\"bar\", label=\"surf\", grid=True, ylabel=\"minutes\", ylim=[0,600], title=\"Promedio mensual de minutos consumidos para la tarifa 'surf'\", figsize=[10,5], legend=False)\n",
    "ultimate_mean.plot(kind=\"bar\", label=\"ultimate\", grid=True, ylabel=\"minutes\", ylim=[0,600], title=\"Promedio mensual de minutos consumidos para la tarifa 'ultimate'\", figsize=[10,5], color='green', legend=False)\n",
    "\n",
    "plt.show()"
   ]
  },
  {
   "cell_type": "markdown",
   "metadata": {},
   "source": [
    "Para ambas tarifas, su mes con mayor consumo de minutos de llamada promedio, fue Diciembre. El mes con menor promedio fue Enero, igual para ambas tarifas. Sin embargo, podríamos decir que el plan \"ultimate\" es el que mayor holgura tiene, el promedio se encuentra muy lejos de su límite mensual."
   ]
  },
  {
   "cell_type": "code",
   "execution_count": 48,
   "metadata": {
    "id": "QoLqW1S_0q1J"
   },
   "outputs": [
    {
     "data": {
      "image/png": "[encoded data removed]",
      "text/plain": [
       "<Figure size 720x360 with 1 Axes>"
      ]
     },
     "metadata": {
      "needs_background": "light"
     },
     "output_type": "display_data"
    }
   ],
   "source": [
    "# Compara el número de minutos mensuales que necesitan los usuarios de cada plan. Traza un histograma.\n",
    "\n",
    "plt.figure(figsize=(10, 5))\n",
    "surf_behavior[\"total_minutes\"].hist(ax=plt.gca(), bins=40,  density=True, alpha=0.5, label=\"surf\")\n",
    "ultimate_behavior[\"total_minutes\"].hist(ax=plt.gca(), bins=40, density=True, alpha=0.5, label=\"ultimate\")\n",
    "plt.legend(title=\"plan_name\")\n",
    "plt.title(\"La distribución de minutos por tipo de plan\\nno parece tener una diferencia importante\")\n",
    "plt.show()\n"
   ]
  },
  {
   "cell_type": "code",
   "execution_count": 49,
   "metadata": {
    "id": "oSndbAnt0q1K"
   },
   "outputs": [
    {
     "name": "stdout",
     "output_type": "stream",
     "text": [
      "Media del plan 'surf': 428.7495232040687\n",
      "Varianza del plan 'surf': 54933.334591317485\n",
      "\n",
      "\n",
      "Media del plan 'ultimate': 430.45\n",
      "Varianza del plan 'ultimate': 57764.125277777785\n"
     ]
    }
   ],
   "source": [
    "# Calcula la media y la varianza de la duración de llamadas.\n",
    "\n",
    "A=surf_behavior[\"total_minutes\"]\n",
    "B=ultimate_behavior[\"total_minutes\"]\n",
    "\n",
    "print(\"Media del plan 'surf':\", A.mean())\n",
    "print(\"Varianza del plan 'surf':\", np.var(A))\n",
    "print()\n",
    "print()\n",
    "print(\"Media del plan 'ultimate':\", B.mean())\n",
    "print(\"Varianza del plan 'ultimate':\", np.var(B))\n"
   ]
  },
  {
   "cell_type": "markdown",
   "metadata": {},
   "source": [
    "La media y la varianza son ligeramente menores en el plan tarifario \"surf\", los usuarios con el plan \"ultimate\" por lo regular tienen llamadas más largas. \n",
    "Las varianzas son muy grandes, lo que nos indica que los datos de duración de llamadas, están muy dispersos."
   ]
  },
  {
   "cell_type": "code",
   "execution_count": 50,
   "metadata": {
    "id": "nZzoRUKc0q1K"
   },
   "outputs": [
    {
     "name": "stdout",
     "output_type": "stream",
     "text": [
      "Diagrama de caja para plan tarifario 'surf'\n"
     ]
    },
    {
     "name": "stderr",
     "output_type": "stream",
     "text": [
      "/opt/conda/lib/python3.9/site-packages/seaborn/_decorators.py:36: FutureWarning: Pass the following variable as a keyword arg: x. From version 0.12, the only valid positional argument will be `data`, and passing other arguments without an explicit keyword will result in an error or misinterpretation.\n",
      "  warnings.warn(\n"
     ]
    },
    {
     "data": {
      "image/png": "[encoded data removed]",
      "text/plain": [
       "<Figure size 432x288 with 1 Axes>"
      ]
     },
     "metadata": {
      "needs_background": "light"
     },
     "output_type": "display_data"
    }
   ],
   "source": [
    "# Traza un diagrama de caja para visualizar la distribución de la duración de llamadas\n",
    "\n",
    "sns.boxplot(A)\n",
    "print(\"Diagrama de caja para plan tarifario 'surf'\")"
   ]
  },
  {
   "cell_type": "code",
   "execution_count": 51,
   "metadata": {},
   "outputs": [
    {
     "name": "stdout",
     "output_type": "stream",
     "text": [
      "Diagrama de caja para plan tarifario 'ultimate'\n"
     ]
    },
    {
     "name": "stderr",
     "output_type": "stream",
     "text": [
      "/opt/conda/lib/python3.9/site-packages/seaborn/_decorators.py:36: FutureWarning: Pass the following variable as a keyword arg: x. From version 0.12, the only valid positional argument will be `data`, and passing other arguments without an explicit keyword will result in an error or misinterpretation.\n",
      "  warnings.warn(\n"
     ]
    },
    {
     "data": {
      "text/plain": [
       "<AxesSubplot:xlabel='total_minutes'>"
      ]
     },
     "execution_count": 51,
     "metadata": {},
     "output_type": "execute_result"
    },
    {
     "data": {
      "image/png": "[encoded data removed]",
      "text/plain": [
       "<Figure size 432x288 with 1 Axes>"
      ]
     },
     "metadata": {
      "needs_background": "light"
     },
     "output_type": "display_data"
    }
   ],
   "source": [
    "print(\"Diagrama de caja para plan tarifario 'ultimate'\")\n",
    "sns.boxplot(B)"
   ]
  },
  {
   "cell_type": "markdown",
   "metadata": {
    "id": "r627zBO50q1K"
   },
   "source": [
    "El comportamiento de los usuarios con respecto a la duración de llamadas, no varía de un plan tarifario a otro. De hecho podemos observar en los diagramas de caja, que su comportamiento es muy similar. El tipo de plan no representa ninguna diferencia en el comportamiento de los usuarios al momento de realizar llamadas."
   ]
  },
  {
   "cell_type": "markdown",
   "metadata": {
    "id": "8idKy8Wh0q1L"
   },
   "source": [
    "### Mensajes"
   ]
  },
  {
   "cell_type": "code",
   "execution_count": 52,
   "metadata": {
    "id": "NXLxiTit0q1L"
   },
   "outputs": [],
   "source": [
    "# Comprara el número de mensajes que tienden a enviar cada mes los usuarios de cada plan\n",
    "agg_messages={\"total_messages\":\"mean\"}\n",
    "messages_surf_mean=per_month_surf.agg(agg_messages)\n",
    "messages_ultimate_mean=per_month_ultimate.agg(agg_messages)"
   ]
  },
  {
   "cell_type": "code",
   "execution_count": 53,
   "metadata": {
    "id": "GRI_R7xF0q1L"
   },
   "outputs": [
    {
     "name": "stdout",
     "output_type": "stream",
     "text": [
      "            total_messages\n",
      "month                     \n",
      "2018-01-01       10.500000\n",
      "2018-02-01       12.000000\n",
      "2018-03-01       15.260870\n",
      "2018-04-01       17.400000\n",
      "2018-05-01       24.012987\n",
      "2018-06-01       25.298969\n",
      "2018-07-01       27.033058\n",
      "2018-08-01       28.777778\n",
      "2018-09-01       30.762887\n",
      "2018-10-01       33.839662\n",
      "2018-11-01       32.385159\n",
      "2018-12-01       38.600629\n",
      "            total_messages\n",
      "month                     \n",
      "2018-01-01       15.500000\n",
      "2018-02-01       21.571429\n",
      "2018-03-01       20.250000\n",
      "2018-04-01       22.047619\n",
      "2018-05-01       32.103448\n",
      "2018-06-01       29.340426\n",
      "2018-07-01       32.830508\n",
      "2018-08-01       38.478873\n",
      "2018-09-01       37.895349\n",
      "2018-10-01       39.443396\n",
      "2018-11-01       38.606299\n",
      "2018-12-01       45.006623\n"
     ]
    }
   ],
   "source": [
    "print(messages_surf_mean)\n",
    "print(messages_ultimate_mean)"
   ]
  },
  {
   "cell_type": "code",
   "execution_count": 54,
   "metadata": {
    "id": "dtFwCGAp0q1M"
   },
   "outputs": [
    {
     "data": {
      "image/png": "[encoded data removed]",
      "text/plain": [
       "<Figure size 720x360 with 1 Axes>"
      ]
     },
     "metadata": {
      "needs_background": "light"
     },
     "output_type": "display_data"
    },
    {
     "data": {
      "image/png": "[encoded data removed]",
      "text/plain": [
       "<Figure size 720x360 with 1 Axes>"
      ]
     },
     "metadata": {
      "needs_background": "light"
     },
     "output_type": "display_data"
    }
   ],
   "source": [
    "messages_surf_mean.plot(kind=\"bar\", label=\"surf\", grid=True, ylabel=\"messages\", ylim=[0,60], title=\"Promedio mensual de mensajes consumidos para la tarifa 'surf'\", figsize=[10,5], legend=False)\n",
    "messages_ultimate_mean.plot(kind=\"bar\", label=\"ultimate\", grid=True, ylabel=\"messages\", ylim=[0,60], title=\"Promedio mensual de mensajes consumidos para la tarifa 'ultimate'\", figsize=[10,5], color='green', legend=False)\n",
    "\n",
    "plt.show()"
   ]
  },
  {
   "cell_type": "markdown",
   "metadata": {},
   "source": [
    "Para ambas tarifas, apreciamos como el consumo de mensajes va incrementando gradualmente hasta llegar al mes de Diciembre, su mes con mayor número de mensajes enviados en promedio. El mes con menor promedio fue Enero, igual para ambas tarifas. Sin embargo, podríamos decir que el plan \"ultimate\" es el que mayor holgura tiene, el promedio se encuentra muy lejos de su límite mensual. Los usuarios con el plan tarifario \"ultimate\" envían unos cuantos mensajes más, en promedio, que los del plan tarifario \"surf\"."
   ]
  },
  {
   "cell_type": "code",
   "execution_count": 55,
   "metadata": {},
   "outputs": [
    {
     "data": {
      "image/png": "[encoded data removed]",
      "text/plain": [
       "<Figure size 720x360 with 1 Axes>"
      ]
     },
     "metadata": {
      "needs_background": "light"
     },
     "output_type": "display_data"
    }
   ],
   "source": [
    "plt.figure(figsize=(10, 5))\n",
    "surf_behavior[\"total_messages\"].hist(ax=plt.gca(), bins=40,  density=True, alpha=0.5, label=\"surf\")\n",
    "ultimate_behavior[\"total_messages\"].hist(ax=plt.gca(), bins=40, density=True, alpha=0.5, label=\"ultimate\")\n",
    "plt.legend(title=\"plan_name\")\n",
    "plt.title(\"La distribución de mensajes por tipo de plan\\nno parece tener una diferencia importante\")\n",
    "plt.show()\n"
   ]
  },
  {
   "cell_type": "code",
   "execution_count": 56,
   "metadata": {},
   "outputs": [
    {
     "name": "stdout",
     "output_type": "stream",
     "text": [
      "Media del plan 'surf': 31.15956770502225\n",
      "Varianza del plan 'surf': 1126.008231726662\n",
      "\n",
      "\n",
      "Media del plan 'ultimate': 37.55138888888889\n",
      "Varianza del plan 'ultimate': 1207.0779147376543\n"
     ]
    }
   ],
   "source": [
    "# Calcula la media y la varianza del número de mensajes.\n",
    "\n",
    "C=surf_behavior[\"total_messages\"]\n",
    "D=ultimate_behavior[\"total_messages\"]\n",
    "\n",
    "print(\"Media del plan 'surf':\", C.mean())\n",
    "print(\"Varianza del plan 'surf':\", np.var(C))\n",
    "print()\n",
    "print()\n",
    "print(\"Media del plan 'ultimate':\", D.mean())\n",
    "print(\"Varianza del plan 'ultimate':\", np.var(D))\n"
   ]
  },
  {
   "cell_type": "markdown",
   "metadata": {},
   "source": [
    "La media y la varianza son menores en el plan tarifario \"surf\", los usuarios con el plan \"ultimate\" por lo regular tienen unos cuantos mensajes más en promedio. Las varianzas son muy grandes, lo que nos indica que los datos de número de mensajes enviados, están muy dispersos.\n",
    "Para ambos planes, gran parte de los usuarios no envían mensajes."
   ]
  },
  {
   "cell_type": "code",
   "execution_count": 57,
   "metadata": {},
   "outputs": [
    {
     "name": "stdout",
     "output_type": "stream",
     "text": [
      "Diagrama de caja para plan tarifario 'surf'\n"
     ]
    },
    {
     "name": "stderr",
     "output_type": "stream",
     "text": [
      "/opt/conda/lib/python3.9/site-packages/seaborn/_decorators.py:36: FutureWarning: Pass the following variable as a keyword arg: x. From version 0.12, the only valid positional argument will be `data`, and passing other arguments without an explicit keyword will result in an error or misinterpretation.\n",
      "  warnings.warn(\n"
     ]
    },
    {
     "data": {
      "image/png": "[encoded data removed]",
      "text/plain": [
       "<Figure size 432x288 with 1 Axes>"
      ]
     },
     "metadata": {
      "needs_background": "light"
     },
     "output_type": "display_data"
    }
   ],
   "source": [
    "# Traza un diagrama de caja para visualizar la distribución del número de mensajes enviados.\n",
    "\n",
    "sns.boxplot(C)\n",
    "print(\"Diagrama de caja para plan tarifario 'surf'\")"
   ]
  },
  {
   "cell_type": "code",
   "execution_count": 58,
   "metadata": {},
   "outputs": [
    {
     "name": "stdout",
     "output_type": "stream",
     "text": [
      "Diagrama de caja para plan tarifario 'ultimate'\n"
     ]
    },
    {
     "name": "stderr",
     "output_type": "stream",
     "text": [
      "/opt/conda/lib/python3.9/site-packages/seaborn/_decorators.py:36: FutureWarning: Pass the following variable as a keyword arg: x. From version 0.12, the only valid positional argument will be `data`, and passing other arguments without an explicit keyword will result in an error or misinterpretation.\n",
      "  warnings.warn(\n"
     ]
    },
    {
     "data": {
      "text/plain": [
       "<AxesSubplot:xlabel='total_messages'>"
      ]
     },
     "execution_count": 58,
     "metadata": {},
     "output_type": "execute_result"
    },
    {
     "data": {
      "image/png": "[encoded data removed]",
      "text/plain": [
       "<Figure size 432x288 with 1 Axes>"
      ]
     },
     "metadata": {
      "needs_background": "light"
     },
     "output_type": "display_data"
    }
   ],
   "source": [
    "print(\"Diagrama de caja para plan tarifario 'ultimate'\")\n",
    "sns.boxplot(D)"
   ]
  },
  {
   "cell_type": "markdown",
   "metadata": {},
   "source": [
    "El comportamiento de los usuarios con respecto al número de mensajes enviados, no varía mucho de un plan tarifario a otro. Podemos observar en los diagramas de caja, que su comportamiento es muy similar, aunque el plan \"ultimate\" tiene un diagrama de caja un poco más amplio. El tipo de plan representa una pequeña diferencia en el comportamiento de los usuarios al momento de enviar mensajes."
   ]
  },
  {
   "cell_type": "markdown",
   "metadata": {
    "id": "42YSypXz0q1M"
   },
   "source": [
    "### Internet"
   ]
  },
  {
   "cell_type": "code",
   "execution_count": 59,
   "metadata": {
    "id": "lSuKPtjh0q1M"
   },
   "outputs": [],
   "source": [
    "# Compara la cantidad de tráfico de Internet consumido por usuarios por plan\n",
    "\n",
    "agg_mb={\"total_mb\":\"mean\"}\n",
    "mb_surf_mean=per_month_surf.agg(agg_mb)\n",
    "mb_ultimate_mean=per_month_ultimate.agg(agg_mb)"
   ]
  },
  {
   "cell_type": "code",
   "execution_count": 60,
   "metadata": {
    "id": "wnh8jYXi0q1N"
   },
   "outputs": [
    {
     "name": "stdout",
     "output_type": "stream",
     "text": [
      "                total_mb\n",
      "month                   \n",
      "2018-01-01   4874.860000\n",
      "2018-02-01  12178.843333\n",
      "2018-03-01  13345.440000\n",
      "2018-04-01  11984.203000\n",
      "2018-05-01  13936.354935\n",
      "2018-06-01  15301.529175\n",
      "2018-07-01  16783.600579\n",
      "2018-08-01  16795.331358\n",
      "2018-09-01  16591.431289\n",
      "2018-10-01  17311.335063\n",
      "2018-11-01  16339.254417\n",
      "2018-12-01  18132.469371\n",
      "                total_mb\n",
      "month                   \n",
      "2018-01-01   6918.092500\n",
      "2018-02-01  17128.808571\n",
      "2018-03-01  18321.518333\n",
      "2018-04-01  16121.654762\n",
      "2018-05-01  16624.482414\n",
      "2018-06-01  15337.921064\n",
      "2018-07-01  16344.744407\n",
      "2018-08-01  17814.720141\n",
      "2018-09-01  16969.869535\n",
      "2018-10-01  17612.553396\n",
      "2018-11-01  17033.685354\n",
      "2018-12-01  18323.191854\n"
     ]
    }
   ],
   "source": [
    "print(mb_surf_mean)\n",
    "print(mb_ultimate_mean)"
   ]
  },
  {
   "cell_type": "code",
   "execution_count": 61,
   "metadata": {},
   "outputs": [
    {
     "data": {
      "image/png": "[encoded data removed]",
      "text/plain": [
       "<Figure size 720x360 with 1 Axes>"
      ]
     },
     "metadata": {
      "needs_background": "light"
     },
     "output_type": "display_data"
    },
    {
     "data": {
      "image/png": "[encoded data removed]",
      "text/plain": [
       "<Figure size 720x360 with 1 Axes>"
      ]
     },
     "metadata": {
      "needs_background": "light"
     },
     "output_type": "display_data"
    }
   ],
   "source": [
    "mb_surf_mean.plot(kind=\"bar\", label=\"surf\", grid=True, ylabel=\"mb_used\", ylim=[0,20000], title=\"Promedio mensual de mb consumidos para la tarifa 'surf'\", figsize=[10,5], legend=False)\n",
    "mb_ultimate_mean.plot(kind=\"bar\", label=\"ultimate\", grid=True, ylabel=\"mb_used\", ylim=[0,20000], title=\"Promedio mensual de mb consumidos para la tarifa 'ultimate'\", figsize=[10,5], color='green', legend=False)\n",
    "\n",
    "plt.show()"
   ]
  },
  {
   "cell_type": "markdown",
   "metadata": {},
   "source": [
    "Para la tarifa \"surf\", apreciamos como el consumo de megabytes va incrementando gradualmente hasta llegar al mes de Diciembre, su mes con mayor número de megabytes consumidos en promedio. \n",
    "El mes con menor promedio, para ambas tarifas, fue Enero. \n",
    "Sin embargo, podríamos decir que el plan \"ultimate\" es el que mayor holgura tiene, el promedio se encuentra muy lejos de su límite mensual. Los usuarios con el plan tarifario \"ultimate\" utilizan más megabytes, en promedio, que los del plan tarifario \"surf\". Observamos que su comportamiento en el transcurso del año, no varía demasiado de mes en mes. "
   ]
  },
  {
   "cell_type": "code",
   "execution_count": 62,
   "metadata": {
    "id": "5VlyJ9ry0q1N"
   },
   "outputs": [
    {
     "data": {
      "image/png": "[encoded data removed]",
      "text/plain": [
       "<Figure size 720x360 with 1 Axes>"
      ]
     },
     "metadata": {
      "needs_background": "light"
     },
     "output_type": "display_data"
    }
   ],
   "source": [
    "plt.figure(figsize=(10, 5))\n",
    "surf_behavior[\"total_mb\"].hist(ax=plt.gca(), bins=40, density=True, alpha=0.5, label=\"surf\")\n",
    "ultimate_behavior[\"total_mb\"].hist(ax=plt.gca(), bins=40, density=True, alpha=0.5, label=\"ultimate\")\n",
    "plt.legend(title=\"plan_name\")\n",
    "plt.title(\"La distribución de Mb por tipo de plan\\nno parece tener una diferencia importante\")\n",
    "plt.show()"
   ]
  },
  {
   "cell_type": "code",
   "execution_count": 63,
   "metadata": {},
   "outputs": [
    {
     "name": "stdout",
     "output_type": "stream",
     "text": [
      "Media del plan 'surf': 16558.283490146216\n",
      "Varianza del plan 'surf': 64175571.68301331\n",
      "\n",
      "\n",
      "Media del plan 'ultimate': 17214.699694444447\n",
      "Varianza del plan 'ultimate': 61566665.1386863\n"
     ]
    }
   ],
   "source": [
    "E=surf_behavior[\"total_mb\"]\n",
    "F=ultimate_behavior[\"total_mb\"]\n",
    "\n",
    "print(\"Media del plan 'surf':\", E.mean())\n",
    "print(\"Varianza del plan 'surf':\", np.var(E))\n",
    "print()\n",
    "print()\n",
    "print(\"Media del plan 'ultimate':\", F.mean())\n",
    "print(\"Varianza del plan 'ultimate':\", np.var(F))\n"
   ]
  },
  {
   "cell_type": "markdown",
   "metadata": {},
   "source": [
    "La media es menor en el plan tarifario \"surf\", los usuarios con el plan \"ultimate\" por lo regular tienen más megabytes consumidos en promedio. Las varianzas son muy grandes, lo que nos indica que los datos de megabytes consumidos, están muy dispersos."
   ]
  },
  {
   "cell_type": "code",
   "execution_count": 64,
   "metadata": {},
   "outputs": [
    {
     "name": "stdout",
     "output_type": "stream",
     "text": [
      "Diagrama de caja para plan tarifario 'surf'\n"
     ]
    },
    {
     "name": "stderr",
     "output_type": "stream",
     "text": [
      "/opt/conda/lib/python3.9/site-packages/seaborn/_decorators.py:36: FutureWarning: Pass the following variable as a keyword arg: x. From version 0.12, the only valid positional argument will be `data`, and passing other arguments without an explicit keyword will result in an error or misinterpretation.\n",
      "  warnings.warn(\n"
     ]
    },
    {
     "data": {
      "image/png": "[encoded data removed]",
      "text/plain": [
       "<Figure size 432x288 with 1 Axes>"
      ]
     },
     "metadata": {
      "needs_background": "light"
     },
     "output_type": "display_data"
    }
   ],
   "source": [
    "# Traza un diagrama de caja para visualizar la distribución de mb consumidos.\n",
    "\n",
    "sns.boxplot(E)\n",
    "print(\"Diagrama de caja para plan tarifario 'surf'\")"
   ]
  },
  {
   "cell_type": "code",
   "execution_count": 65,
   "metadata": {},
   "outputs": [
    {
     "name": "stdout",
     "output_type": "stream",
     "text": [
      "Diagrama de caja para plan tarifario 'ultimate'\n"
     ]
    },
    {
     "name": "stderr",
     "output_type": "stream",
     "text": [
      "/opt/conda/lib/python3.9/site-packages/seaborn/_decorators.py:36: FutureWarning: Pass the following variable as a keyword arg: x. From version 0.12, the only valid positional argument will be `data`, and passing other arguments without an explicit keyword will result in an error or misinterpretation.\n",
      "  warnings.warn(\n"
     ]
    },
    {
     "data": {
      "text/plain": [
       "<AxesSubplot:xlabel='total_mb'>"
      ]
     },
     "execution_count": 65,
     "metadata": {},
     "output_type": "execute_result"
    },
    {
     "data": {
      "image/png": "[encoded data removed]",
      "text/plain": [
       "<Figure size 432x288 with 1 Axes>"
      ]
     },
     "metadata": {
      "needs_background": "light"
     },
     "output_type": "display_data"
    }
   ],
   "source": [
    "print(\"Diagrama de caja para plan tarifario 'ultimate'\")\n",
    "sns.boxplot(F)"
   ]
  },
  {
   "cell_type": "markdown",
   "metadata": {},
   "source": [
    "El comportamiento de los usuarios con respecto al número de mb consumidos, varía un poco de un plan tarifario a otro. Podemos observar en los diagramas de caja, que su comportamiento es muy similar. El tipo de plan representa una pequeña diferencia en el comportamiento de los usuarios al momento de consumir megabytes."
   ]
  },
  {
   "cell_type": "markdown",
   "metadata": {
    "id": "tCijq3260q1N"
   },
   "source": [
    "## Ingreso"
   ]
  },
  {
   "cell_type": "code",
   "execution_count": 66,
   "metadata": {
    "id": "tz-dq_V00q1O"
   },
   "outputs": [],
   "source": [
    "agg_income={\"total_income\":\"mean\"}\n",
    "total_income_surf_mean=per_month_surf.agg(agg_income)\n",
    "total_income_ultimate_mean=per_month_ultimate.agg(agg_income)"
   ]
  },
  {
   "cell_type": "code",
   "execution_count": 67,
   "metadata": {
    "id": "0Y1v8ZUz0q1P"
   },
   "outputs": [
    {
     "name": "stdout",
     "output_type": "stream",
     "text": [
      "            total_income\n",
      "month                   \n",
      "2018-01-01     20.000000\n",
      "2018-02-01     34.396667\n",
      "2018-03-01     45.941304\n",
      "2018-04-01     40.710600\n",
      "2018-05-01     47.628182\n",
      "2018-06-01     49.276289\n",
      "2018-07-01     62.674050\n",
      "2018-08-01     63.931173\n",
      "2018-09-01     58.271495\n",
      "2018-10-01     65.421224\n",
      "2018-11-01     58.004276\n",
      "2018-12-01     70.557044\n",
      "            total_income\n",
      "month                   \n",
      "2018-01-01     70.000000\n",
      "2018-02-01     70.000000\n",
      "2018-03-01     74.666667\n",
      "2018-04-01     73.000000\n",
      "2018-05-01     70.724138\n",
      "2018-06-01     71.638298\n",
      "2018-07-01     71.898305\n",
      "2018-08-01     72.859155\n",
      "2018-09-01     72.034884\n",
      "2018-10-01     72.311321\n",
      "2018-11-01     71.708661\n",
      "2018-12-01     73.291391\n"
     ]
    }
   ],
   "source": [
    "print(total_income_surf_mean)\n",
    "print(total_income_ultimate_mean)"
   ]
  },
  {
   "cell_type": "code",
   "execution_count": 68,
   "metadata": {
    "id": "bYmwxyVh0q1P"
   },
   "outputs": [
    {
     "data": {
      "image/png": "[encoded data removed]",
      "text/plain": [
       "<Figure size 720x360 with 1 Axes>"
      ]
     },
     "metadata": {
      "needs_background": "light"
     },
     "output_type": "display_data"
    },
    {
     "data": {
      "image/png": "[encoded data removed]",
      "text/plain": [
       "<Figure size 720x360 with 1 Axes>"
      ]
     },
     "metadata": {
      "needs_background": "light"
     },
     "output_type": "display_data"
    }
   ],
   "source": [
    "total_income_surf_mean.plot(kind=\"bar\", label=\"surf\", grid=True, ylabel=\"total_income_mean\", ylim=[0,80], title=\"Promedio mensual por usuario de ingresos para la tarifa 'surf'\", figsize=[10,5], legend=False)\n",
    "total_income_ultimate_mean.plot(kind=\"bar\", label=\"ultimate\", grid=True, ylabel=\"total_income_mean\", ylim=[0,80], title=\"Promedio mensual por usuario de ingresos para la tarifa 'ultimate'\", figsize=[10,5], color='green', legend=False)\n",
    "\n",
    "plt.show()"
   ]
  },
  {
   "cell_type": "markdown",
   "metadata": {
    "id": "KAFidcXZ0q1P"
   },
   "source": [
    "En el plan tarifario \"ultimate\" los ingresos mensuales promedio por usuario, para todo el año, varió muy poco, siendo muy poco por encima de la tarifa fija (70 USD). \n",
    "Por otro lado, apreciamos que el plan tarifario \"surf\" únicamente no superó la tarifa fija (20 USD) para el mes de enero, el resto de meses del año se obtuvieron ingresos promedios mucho mayores que la tarifa base, podríamos especular que gran parte de los usuarios se exceden en consumos y deben pagar mucho por sus adicionales."
   ]
  },
  {
   "cell_type": "code",
   "execution_count": 69,
   "metadata": {},
   "outputs": [
    {
     "data": {
      "image/png": "[encoded data removed]",
      "text/plain": [
       "<Figure size 720x360 with 1 Axes>"
      ]
     },
     "metadata": {
      "needs_background": "light"
     },
     "output_type": "display_data"
    }
   ],
   "source": [
    "plt.figure(figsize=(10, 5))\n",
    "surf_behavior[\"total_income\"].hist(ax=plt.gca(), bins=40, density=True, alpha=0.5, label=\"surf\")\n",
    "ultimate_behavior[\"total_income\"].hist(ax=plt.gca(), bins=40, density=True, alpha=0.5, label=\"ultimate\")\n",
    "plt.legend(title=\"plan_name\")\n",
    "plt.title(\"La distribución de ingresos totales mensuales por tipo de plan\\nno parece tener una diferencia importante\")\n",
    "plt.show()"
   ]
  },
  {
   "cell_type": "code",
   "execution_count": 70,
   "metadata": {},
   "outputs": [
    {
     "name": "stdout",
     "output_type": "stream",
     "text": [
      "Media del plan 'surf': 60.706408137317226\n",
      "Varianza del plan 'surf': 3065.8848438690247\n",
      "\n",
      "\n",
      "Media del plan 'ultimate': 72.31388888888888\n",
      "Varianza del plan 'ultimate': 129.66814043209877\n"
     ]
    }
   ],
   "source": [
    "G=surf_behavior[\"total_income\"]\n",
    "H=ultimate_behavior[\"total_income\"]\n",
    "\n",
    "print(\"Media del plan 'surf':\", G.mean())\n",
    "print(\"Varianza del plan 'surf':\", np.var(G))\n",
    "print()\n",
    "print()\n",
    "print(\"Media del plan 'ultimate':\", H.mean())\n",
    "print(\"Varianza del plan 'ultimate':\", np.var(H))\n"
   ]
  },
  {
   "cell_type": "markdown",
   "metadata": {},
   "source": [
    "La media es menor en el plan tarifario \"surf\", pero es mucho mayor que la tarifa base. En el plan tarifario \"ultimate\" el promedio está por muy poco por encima de la tarifa base. \n",
    "La varianza de \"surf\" es muy grande, lo que nos indica que los ingresos varían mucho. Mientras que la varianza en \"ultimate\" es baja, lo que nos sugiere que la mayoría de los datos se encuentran cercanos a la media.\n",
    "\n",
    "Esta distribución de valores la podemos observar en nuestro histograma."
   ]
  },
  {
   "cell_type": "code",
   "execution_count": 71,
   "metadata": {},
   "outputs": [
    {
     "name": "stdout",
     "output_type": "stream",
     "text": [
      "Diagrama de caja para plan tarifario 'surf'\n"
     ]
    },
    {
     "name": "stderr",
     "output_type": "stream",
     "text": [
      "/opt/conda/lib/python3.9/site-packages/seaborn/_decorators.py:36: FutureWarning: Pass the following variable as a keyword arg: x. From version 0.12, the only valid positional argument will be `data`, and passing other arguments without an explicit keyword will result in an error or misinterpretation.\n",
      "  warnings.warn(\n"
     ]
    },
    {
     "data": {
      "image/png": "[encoded data removed]",
      "text/plain": [
       "<Figure size 432x288 with 1 Axes>"
      ]
     },
     "metadata": {
      "needs_background": "light"
     },
     "output_type": "display_data"
    }
   ],
   "source": [
    "# Traza un diagrama de caja para visualizar la distribución de los ingresos totales por plan tarifario.\n",
    "\n",
    "sns.boxplot(G)\n",
    "print(\"Diagrama de caja para plan tarifario 'surf'\")"
   ]
  },
  {
   "cell_type": "code",
   "execution_count": 72,
   "metadata": {},
   "outputs": [
    {
     "name": "stdout",
     "output_type": "stream",
     "text": [
      "Diagrama de caja para plan tarifario 'ultimate'\n"
     ]
    },
    {
     "name": "stderr",
     "output_type": "stream",
     "text": [
      "/opt/conda/lib/python3.9/site-packages/seaborn/_decorators.py:36: FutureWarning: Pass the following variable as a keyword arg: x. From version 0.12, the only valid positional argument will be `data`, and passing other arguments without an explicit keyword will result in an error or misinterpretation.\n",
      "  warnings.warn(\n"
     ]
    },
    {
     "data": {
      "text/plain": [
       "<AxesSubplot:xlabel='total_income'>"
      ]
     },
     "execution_count": 72,
     "metadata": {},
     "output_type": "execute_result"
    },
    {
     "data": {
      "image/png": "[encoded data removed]",
      "text/plain": [
       "<Figure size 432x288 with 1 Axes>"
      ]
     },
     "metadata": {
      "needs_background": "light"
     },
     "output_type": "display_data"
    }
   ],
   "source": [
    "print(\"Diagrama de caja para plan tarifario 'ultimate'\")\n",
    "sns.boxplot(H)"
   ]
  },
  {
   "cell_type": "markdown",
   "metadata": {},
   "source": [
    "El comportamiento de los ingresos, varía de un plan tarifario a otro. Podemos observar en los diagramas de caja, que su comportamiento es distinto. \n",
    "El tipo de plan representa una notable diferencia en el comportamiento de los ingresos."
   ]
  },
  {
   "cell_type": "markdown",
   "metadata": {
    "id": "ajJ7VKeI0q1Q"
   },
   "source": [
    "## Prueba las hipótesis estadísticas"
   ]
  },
  {
   "cell_type": "code",
   "execution_count": 73,
   "metadata": {},
   "outputs": [],
   "source": [
    "total_user_behavior_copy= total_user_behavior.copy()"
   ]
  },
  {
   "cell_type": "code",
   "execution_count": 74,
   "metadata": {
    "id": "nFoPNlPq0q1R"
   },
   "outputs": [
    {
     "data": {
      "text/plain": [
       "plan\n",
       "surf        60.706408\n",
       "ultimate    72.313889\n",
       "Name: total_income, dtype: float64"
      ]
     },
     "execution_count": 74,
     "metadata": {},
     "output_type": "execute_result"
    }
   ],
   "source": [
    "# Prueba las hipótesis\n",
    "\n",
    "total_user_behavior_copy.groupby(\"plan\")[\"total_income\"].mean()\n"
   ]
  },
  {
   "cell_type": "code",
   "execution_count": 75,
   "metadata": {},
   "outputs": [
    {
     "data": {
      "text/plain": [
       "plan\n",
       "surf        3067.835152\n",
       "ultimate     129.848486\n",
       "Name: total_income, dtype: float64"
      ]
     },
     "execution_count": 75,
     "metadata": {},
     "output_type": "execute_result"
    }
   ],
   "source": [
    "total_user_behavior_copy.groupby(\"plan\")[\"total_income\"].var()"
   ]
  },
  {
   "cell_type": "code",
   "execution_count": 76,
   "metadata": {},
   "outputs": [
    {
     "name": "stdout",
     "output_type": "stream",
     "text": [
      "T-statistic: -7.95209489133389\n",
      "P-value: 3.17039054811355e-15\n",
      "Se rechaza la hipótesis nula: los ingresos promedio son diferentes.\n"
     ]
    }
   ],
   "source": [
    "alpha=.05\n",
    "\n",
    "results=st.ttest_ind(\n",
    "    total_user_behavior_copy.query(\"plan == 'surf'\")[\"total_income\"],\n",
    "    total_user_behavior_copy.query(\"plan == 'ultimate'\")[\"total_income\"],\n",
    "    equal_var=False\n",
    ")\n",
    "\n",
    "print(\"T-statistic:\", results.statistic)\n",
    "print(\"P-value:\", results.pvalue)\n",
    "\n",
    "if results.pvalue < alpha:\n",
    "    print(\"Se rechaza la hipótesis nula: los ingresos promedio son diferentes.\")\n",
    "else:\n",
    "    print(\"No se rechaza la hipótesis nula: los ingresos promedio son iguales.\")\n"
   ]
  },
  {
   "cell_type": "code",
   "execution_count": 77,
   "metadata": {},
   "outputs": [
    {
     "name": "stdout",
     "output_type": "stream",
     "text": [
      "Levene statistic: 404.7301727752691\n",
      "P-value: 5.028876110654919e-83\n",
      "Se rechaza la hipótesis nula: las varianzas son diferentes.\n"
     ]
    }
   ],
   "source": [
    "alpha= 0.05\n",
    "\n",
    "surf_filtered=total_user_behavior_copy.query(\"plan == 'surf'\")\n",
    "ultimate_filtered=total_user_behavior_copy.query(\"plan == 'ultimate'\")\n",
    "\n",
    "results_levene=st.levene(surf_filtered[\"total_income\"], ultimate_filtered[\"total_income\"])\n",
    "\n",
    "print(\"Levene statistic:\", results_levene.statistic)\n",
    "print(\"P-value:\", results_levene.pvalue)\n",
    "\n",
    "if results_levene.pvalue < alpha:\n",
    "    print(\"Se rechaza la hipótesis nula: las varianzas son diferentes.\")\n",
    "else:\n",
    "    print(\"No se rechaza la hipótesis nula: las varianzas son iguales.\")"
   ]
  },
  {
   "cell_type": "code",
   "execution_count": 78,
   "metadata": {
    "id": "Cqcj7wrZ0q1S"
   },
   "outputs": [
    {
     "data": {
      "text/plain": [
       "array(['New York-Newark-Jersey City, NY-NJ-PA MSA'], dtype=object)"
      ]
     },
     "execution_count": 78,
     "metadata": {},
     "output_type": "execute_result"
    }
   ],
   "source": [
    "total_user_behavior_copy[total_user_behavior_copy[\"city\"].str.contains(\"NY-NJ\")][\"city\"].unique()\n"
   ]
  },
  {
   "cell_type": "code",
   "execution_count": 79,
   "metadata": {},
   "outputs": [],
   "source": [
    "ny_nj_zones = [\"New York-Newark-Jersey City, NY-NJ-PA MSA\"]"
   ]
  },
  {
   "cell_type": "code",
   "execution_count": 80,
   "metadata": {},
   "outputs": [
    {
     "name": "stdout",
     "output_type": "stream",
     "text": [
      "Media área NY-NJ: 59.92135278514589\n",
      "Media otras áreas: 65.2227713987474\n"
     ]
    }
   ],
   "source": [
    "print(\"Media área NY-NJ:\" ,total_user_behavior_copy[total_user_behavior_copy[\"city\"].isin(ny_nj_zones)][\"total_income\"].mean())\n",
    "print(\"Media otras áreas:\" ,total_user_behavior_copy[~total_user_behavior_copy[\"city\"].isin(ny_nj_zones)][\"total_income\"].mean())"
   ]
  },
  {
   "cell_type": "code",
   "execution_count": 81,
   "metadata": {},
   "outputs": [
    {
     "name": "stdout",
     "output_type": "stream",
     "text": [
      "Varianza área NY-NJ: 1895.5456899204241\n",
      "Varianza otras áreas: 2225.0479943518917\n"
     ]
    }
   ],
   "source": [
    "print(\"Varianza área NY-NJ:\" ,total_user_behavior_copy[total_user_behavior_copy[\"city\"].isin(ny_nj_zones)][\"total_income\"].var())\n",
    "print(\"Varianza otras áreas:\" ,total_user_behavior_copy[~total_user_behavior_copy[\"city\"].isin(ny_nj_zones)][\"total_income\"].var())"
   ]
  },
  {
   "cell_type": "code",
   "execution_count": 82,
   "metadata": {},
   "outputs": [
    {
     "name": "stdout",
     "output_type": "stream",
     "text": [
      "Levene statistic: 2.3452816517300747\n",
      "P-value: 0.12580091109612837\n",
      "Aceptamos la hipótesis nula: las varianzas son iguales.\n"
     ]
    }
   ],
   "source": [
    "alpha= 0.05\n",
    "\n",
    "behavior_filtered_ny_nj_zone=total_user_behavior_copy[total_user_behavior_copy[\"city\"].isin(ny_nj_zones)]\n",
    "behavior_filtered_other_zones=total_user_behavior_copy[~total_user_behavior_copy[\"city\"].isin(ny_nj_zones)]\n",
    "\n",
    "results_levene_ny_nj=st.levene(behavior_filtered_ny_nj_zone[\"total_income\"], behavior_filtered_other_zones[\"total_income\"])\n",
    "\n",
    "print(\"Levene statistic:\", results_levene_ny_nj.statistic)\n",
    "print(\"P-value:\", results_levene_ny_nj.pvalue)\n",
    "\n",
    "if results_levene_ny_nj.pvalue < alpha:\n",
    "    print(\"Rechazamos la hipótesis nula: las varianzas son diferentes.\")\n",
    "    var=False\n",
    "else:\n",
    "    print(\"Aceptamos la hipótesis nula: las varianzas son iguales.\")\n",
    "    var=True"
   ]
  },
  {
   "cell_type": "code",
   "execution_count": 83,
   "metadata": {},
   "outputs": [
    {
     "name": "stdout",
     "output_type": "stream",
     "text": [
      "T-statistic: -2.0194429818968076\n",
      "P-value: 0.04355743162134274\n",
      "Se rechaza la hipótesis nula: los ingresos promedio son diferentes dependiendo la zona.\n"
     ]
    }
   ],
   "source": [
    "# Prueba las hipótesis\n",
    "\n",
    "alpha=0.05\n",
    "\n",
    "results=st.ttest_ind(\n",
    "    behavior_filtered_ny_nj_zone[\"total_income\"],\n",
    "    behavior_filtered_other_zones[\"total_income\"],\n",
    "    equal_var=var\n",
    ")\n",
    "\n",
    "print(\"T-statistic:\", results.statistic)\n",
    "print(\"P-value:\", results.pvalue)\n",
    "\n",
    "if results.pvalue < alpha:\n",
    "    print(\"Se rechaza la hipótesis nula: los ingresos promedio son diferentes dependiendo la zona.\")\n",
    "else:\n",
    "    print(\"No se rechaza la hipótesis nula: los ingresos promedio son iguales sin importar la zona.\")"
   ]
  },
  {
   "cell_type": "markdown",
   "metadata": {
    "id": "bbTR8UQO0q1T"
   },
   "source": [
    "## Conclusión general\n",
    "\n",
    "Podemos concluir que el departamento comercial debería concentrar una mayor parte del presupuesto de publicidad al plan de llamadas \"ultimate\". Este plan representó un promedio mayor de ingreso mensual, luego de observar el comportamiento de consumos de los usuarios, podemos determinar que como empresa nos conviene tener a la mayor cantidad de usuarios en este plan ya que: \n",
    "1. No utilizan todos los servicios proporcionados del plan (mb, mensajes, minutos de llamada)\n",
    "2. Se obtiendría un ingreso mayor promedio durante todo el año.\n",
    "\n",
    "Si se quisiera explorar algunas otras opciones de acciones para la empresa, podrían desarrollar un nuevo plan tarifario en el que la cantidad de GB disponibles se encuentre en un punto cercano a \"ultimate\", ya que el consumo promedio de ambos planes se acerca a los 20000 mb. Esto con el objetivo de aumentar la tarifa base que pagan los usuarios del plan \"surf\" y que les parezca muy caro el plan \"ultimate\"."
   ]
  }
 ],
 "metadata": {
  "ExecuteTimeLog": [
   {
    "duration": 828,
    "start_time": "2021-11-16T09:21:11.304Z"
   },
   {
    "duration": 893,
    "start_time": "2021-11-16T09:21:17.728Z"
   },
   {
    "duration": 1150,
    "start_time": "2021-11-16T09:21:29.568Z"
   },
   {
    "duration": 3,
    "start_time": "2021-11-16T09:24:14.495Z"
   },
   {
    "duration": 120,
    "start_time": "2021-11-16T09:24:46.630Z"
   },
   {
    "duration": 3,
    "start_time": "2021-11-16T09:28:27.882Z"
   },
   {
    "duration": 4,
    "start_time": "2021-11-16T09:29:54.281Z"
   },
   {
    "duration": 3,
    "start_time": "2021-11-16T09:30:45.936Z"
   },
   {
    "duration": 4,
    "start_time": "2021-11-16T09:31:06.300Z"
   },
   {
    "duration": 113,
    "start_time": "2021-11-16T09:31:37.208Z"
   },
   {
    "duration": 143,
    "start_time": "2021-11-16T09:31:48.656Z"
   },
   {
    "duration": 98,
    "start_time": "2021-11-16T09:31:55.678Z"
   },
   {
    "duration": 3,
    "start_time": "2021-11-16T09:32:08.535Z"
   },
   {
    "duration": 111,
    "start_time": "2021-11-16T09:32:10.120Z"
   },
   {
    "duration": 3,
    "start_time": "2021-11-16T09:32:15.732Z"
   },
   {
    "duration": 4,
    "start_time": "2021-11-16T09:32:29.423Z"
   },
   {
    "duration": 3,
    "start_time": "2021-11-16T10:03:03.074Z"
   },
   {
    "duration": 3,
    "start_time": "2021-11-16T10:10:01.288Z"
   },
   {
    "duration": 3,
    "start_time": "2021-11-16T10:10:46.923Z"
   },
   {
    "duration": 121,
    "start_time": "2021-11-16T10:37:46.494Z"
   },
   {
    "duration": 125,
    "start_time": "2021-11-16T10:38:20.632Z"
   },
   {
    "duration": 112,
    "start_time": "2021-11-16T10:46:53.001Z"
   },
   {
    "duration": 110,
    "start_time": "2021-11-16T10:48:25.775Z"
   },
   {
    "duration": 3,
    "start_time": "2021-11-16T10:50:18.720Z"
   },
   {
    "duration": 4,
    "start_time": "2021-11-16T10:50:37.649Z"
   },
   {
    "duration": 2,
    "start_time": "2021-11-16T10:50:51.884Z"
   },
   {
    "duration": 3,
    "start_time": "2021-11-16T10:51:56.237Z"
   },
   {
    "duration": 101,
    "start_time": "2021-11-16T10:53:13.791Z"
   },
   {
    "duration": 3,
    "start_time": "2021-11-16T10:55:59.186Z"
   },
   {
    "duration": 3,
    "start_time": "2021-11-16T10:56:10.751Z"
   },
   {
    "duration": 3,
    "start_time": "2021-11-16T10:56:49.038Z"
   },
   {
    "duration": 3,
    "start_time": "2021-11-16T10:56:49.174Z"
   },
   {
    "duration": 4,
    "start_time": "2021-11-16T10:56:49.414Z"
   },
   {
    "duration": 3,
    "start_time": "2021-11-16T10:56:49.680Z"
   },
   {
    "duration": 3,
    "start_time": "2021-11-16T10:56:50.370Z"
   },
   {
    "duration": 114,
    "start_time": "2021-11-16T10:59:34.518Z"
   },
   {
    "duration": 3,
    "start_time": "2021-11-16T11:01:41.201Z"
   },
   {
    "duration": 116,
    "start_time": "2021-11-16T11:01:48.754Z"
   },
   {
    "duration": 3,
    "start_time": "2021-11-16T11:02:16.685Z"
   },
   {
    "duration": 3,
    "start_time": "2021-11-16T11:02:19.479Z"
   },
   {
    "duration": 3,
    "start_time": "2021-11-16T11:02:47.067Z"
   },
   {
    "duration": 3,
    "start_time": "2021-11-16T11:02:49.353Z"
   },
   {
    "duration": 3,
    "start_time": "2021-11-16T11:03:07.835Z"
   },
   {
    "duration": 3,
    "start_time": "2021-11-16T11:03:07.953Z"
   },
   {
    "duration": 112,
    "start_time": "2021-11-16T11:07:52.072Z"
   },
   {
    "duration": 187,
    "start_time": "2021-11-16T11:09:23.468Z"
   },
   {
    "duration": 4,
    "start_time": "2021-11-16T11:10:01.455Z"
   },
   {
    "duration": 3,
    "start_time": "2021-11-16T11:10:05.069Z"
   },
   {
    "duration": 4,
    "start_time": "2021-11-16T11:10:13.376Z"
   },
   {
    "duration": 3,
    "start_time": "2021-11-16T11:10:14.434Z"
   },
   {
    "duration": 3,
    "start_time": "2021-11-16T11:10:22.853Z"
   },
   {
    "duration": 4,
    "start_time": "2021-11-16T11:27:29.279Z"
   },
   {
    "duration": 4,
    "start_time": "2021-11-16T11:29:08.919Z"
   },
   {
    "duration": 118,
    "start_time": "2021-11-16T11:29:46.703Z"
   },
   {
    "duration": 437,
    "start_time": "2021-11-16T11:36:02.181Z"
   },
   {
    "duration": 157,
    "start_time": "2021-11-16T11:36:14.388Z"
   },
   {
    "duration": 207,
    "start_time": "2021-11-16T11:47:15.898Z"
   },
   {
    "duration": 3,
    "start_time": "2021-11-16T11:53:52.092Z"
   },
   {
    "duration": 3,
    "start_time": "2021-11-16T11:53:52.236Z"
   },
   {
    "duration": 3,
    "start_time": "2021-11-16T11:59:12.005Z"
   },
   {
    "duration": 112,
    "start_time": "2021-11-16T12:00:33.446Z"
   },
   {
    "duration": 3,
    "start_time": "2021-11-16T12:02:14.453Z"
   },
   {
    "duration": 3,
    "start_time": "2021-11-16T12:02:39.512Z"
   },
   {
    "duration": 106,
    "start_time": "2021-11-16T12:03:03.460Z"
   },
   {
    "duration": 3,
    "start_time": "2021-11-17T20:37:21.139Z"
   },
   {
    "duration": 3,
    "start_time": "2021-11-17T20:37:22.229Z"
   },
   {
    "duration": 3,
    "start_time": "2021-11-17T20:38:38.806Z"
   },
   {
    "duration": 3,
    "start_time": "2021-11-17T20:38:41.958Z"
   },
   {
    "duration": 3,
    "start_time": "2021-11-17T20:43:46.551Z"
   },
   {
    "duration": 4,
    "start_time": "2021-11-17T20:58:21.835Z"
   },
   {
    "duration": 3,
    "start_time": "2021-11-17T20:59:21.872Z"
   },
   {
    "duration": 4,
    "start_time": "2021-11-17T20:59:45.352Z"
   },
   {
    "duration": 4,
    "start_time": "2021-11-17T20:59:49.646Z"
   },
   {
    "duration": 159,
    "start_time": "2021-11-17T21:02:26.949Z"
   },
   {
    "duration": 3,
    "start_time": "2021-11-17T21:03:53.461Z"
   },
   {
    "duration": 3,
    "start_time": "2021-11-17T21:03:53.694Z"
   },
   {
    "duration": 3,
    "start_time": "2021-11-17T21:05:28.145Z"
   },
   {
    "duration": 116,
    "start_time": "2021-11-17T21:05:57.787Z"
   },
   {
    "duration": 3,
    "start_time": "2021-11-17T21:06:37.993Z"
   },
   {
    "duration": 3,
    "start_time": "2021-11-17T21:06:38.261Z"
   },
   {
    "duration": 3,
    "start_time": "2021-11-17T21:11:54.358Z"
   },
   {
    "duration": 3,
    "start_time": "2021-11-17T21:12:43.846Z"
   },
   {
    "duration": 4,
    "start_time": "2021-11-17T21:13:08.773Z"
   },
   {
    "duration": 3,
    "start_time": "2021-11-17T21:14:44.441Z"
   },
   {
    "duration": 3,
    "start_time": "2021-11-17T21:15:42.059Z"
   },
   {
    "duration": 4,
    "start_time": "2021-11-17T21:15:51.995Z"
   },
   {
    "duration": 3,
    "start_time": "2021-11-17T21:15:53.923Z"
   },
   {
    "duration": 3,
    "start_time": "2021-11-17T21:15:55.282Z"
   },
   {
    "duration": 3,
    "start_time": "2021-11-17T21:16:28.492Z"
   },
   {
    "duration": 3,
    "start_time": "2021-11-17T21:16:32.603Z"
   },
   {
    "duration": 3,
    "start_time": "2021-11-17T21:17:06.941Z"
   },
   {
    "duration": 98,
    "start_time": "2021-11-17T21:18:05.733Z"
   },
   {
    "duration": 4,
    "start_time": "2021-11-17T21:21:35.255Z"
   },
   {
    "duration": 3,
    "start_time": "2021-11-17T21:21:37.804Z"
   },
   {
    "duration": 4,
    "start_time": "2021-11-17T21:23:06.071Z"
   },
   {
    "duration": 3,
    "start_time": "2021-11-17T21:23:24.799Z"
   },
   {
    "duration": 3,
    "start_time": "2021-11-17T21:23:32.591Z"
   },
   {
    "duration": 98,
    "start_time": "2021-11-17T21:28:31.559Z"
   },
   {
    "duration": 3,
    "start_time": "2021-11-17T21:28:45.448Z"
   },
   {
    "duration": 3,
    "start_time": "2021-11-17T21:29:17.303Z"
   },
   {
    "duration": 3,
    "start_time": "2021-11-17T21:29:29.617Z"
   },
   {
    "duration": 3,
    "start_time": "2021-11-17T21:29:32.681Z"
   },
   {
    "duration": 3,
    "start_time": "2021-11-17T21:36:11.474Z"
   },
   {
    "duration": 3,
    "start_time": "2021-11-17T21:36:14.791Z"
   },
   {
    "duration": 3,
    "start_time": "2021-11-17T21:36:53.943Z"
   },
   {
    "duration": 3,
    "start_time": "2021-11-17T21:36:56.165Z"
   },
   {
    "duration": 4,
    "start_time": "2021-11-17T21:37:16.590Z"
   },
   {
    "duration": 3,
    "start_time": "2021-11-17T21:37:22.702Z"
   },
   {
    "duration": 4,
    "start_time": "2021-11-17T21:38:03.479Z"
   },
   {
    "duration": 3,
    "start_time": "2021-11-17T21:38:08.601Z"
   },
   {
    "duration": 3,
    "start_time": "2021-11-17T21:38:12.928Z"
   },
   {
    "duration": 3,
    "start_time": "2021-11-17T21:38:48.896Z"
   },
   {
    "duration": 2,
    "start_time": "2021-11-17T21:38:49.171Z"
   },
   {
    "duration": 4,
    "start_time": "2021-11-17T21:39:57.889Z"
   },
   {
    "duration": 3,
    "start_time": "2021-11-17T21:39:58.057Z"
   },
   {
    "duration": 3,
    "start_time": "2021-11-17T21:41:20.108Z"
   },
   {
    "duration": 3,
    "start_time": "2021-11-17T21:41:20.629Z"
   },
   {
    "duration": 3,
    "start_time": "2021-11-17T21:42:49.136Z"
   },
   {
    "duration": 3,
    "start_time": "2021-11-17T21:43:15.137Z"
   },
   {
    "duration": 4,
    "start_time": "2021-11-17T21:43:16.766Z"
   },
   {
    "duration": 4,
    "start_time": "2021-11-17T21:43:31.711Z"
   },
   {
    "duration": 3,
    "start_time": "2021-11-17T21:43:36.312Z"
   },
   {
    "duration": 4,
    "start_time": "2021-11-17T21:45:08.825Z"
   },
   {
    "duration": 4,
    "start_time": "2021-11-17T21:45:10.119Z"
   },
   {
    "duration": 4,
    "start_time": "2021-11-17T21:45:13.748Z"
   },
   {
    "duration": 3,
    "start_time": "2021-11-17T21:45:22.219Z"
   },
   {
    "duration": 3,
    "start_time": "2021-11-17T21:45:33.412Z"
   },
   {
    "duration": 2,
    "start_time": "2021-11-17T21:46:01.885Z"
   },
   {
    "duration": 3,
    "start_time": "2021-11-17T21:46:03.628Z"
   },
   {
    "duration": 107,
    "start_time": "2021-11-17T21:47:32.512Z"
   },
   {
    "duration": 103,
    "start_time": "2021-11-17T21:50:36.243Z"
   },
   {
    "duration": 3,
    "start_time": "2021-11-18T06:28:31.440Z"
   },
   {
    "duration": 3,
    "start_time": "2021-11-18T06:29:00.168Z"
   },
   {
    "duration": 3,
    "start_time": "2021-11-18T06:31:27.008Z"
   },
   {
    "duration": 2,
    "start_time": "2021-11-18T06:35:34.288Z"
   },
   {
    "duration": 2,
    "start_time": "2021-11-18T06:38:04.527Z"
   }
  ],
  "colab": {
   "provenance": []
  },
  "kernelspec": {
   "display_name": "Python 3 (ipykernel)",
   "language": "python",
   "name": "python3"
  },
  "language_info": {
   "codemirror_mode": {
    "name": "ipython",
    "version": 3
   },
   "file_extension": ".py",
   "mimetype": "text/x-python",
   "name": "python",
   "nbconvert_exporter": "python",
   "pygments_lexer": "ipython3",
   "version": "3.9.19"
  },
  "toc": {
   "base_numbering": 1,
   "nav_menu": {},
   "number_sections": true,
   "sideBar": true,
   "skip_h1_title": false,
   "title_cell": "Table of Contents",
   "title_sidebar": "Contents",
   "toc_cell": false,
   "toc_position": {
    "height": "calc(100% - 180px)",
    "left": "10px",
    "top": "150px",
    "width": "410.66px"
   },
   "toc_section_display": true,
   "toc_window_display": true
  }
 },
 "nbformat": 4,
 "nbformat_minor": 1
}
